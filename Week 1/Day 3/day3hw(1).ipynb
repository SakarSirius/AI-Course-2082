{
  "nbformat": 4,
  "nbformat_minor": 0,
  "metadata": {
    "colab": {
      "provenance": []
    },
    "kernelspec": {
      "name": "python3",
      "display_name": "Python 3"
    },
    "language_info": {
      "name": "python"
    }
  },
  "cells": [
    {
      "cell_type": "markdown",
      "source": [
        "SINE OF ANGLE"
      ],
      "metadata": {
        "id": "bsIz9D6I3F8V"
      }
    },
    {
      "cell_type": "code",
      "execution_count": 2,
      "metadata": {
        "colab": {
          "base_uri": "https://localhost:8080/"
        },
        "id": "eIIcm1963D1C",
        "outputId": "8129501a-9710-4d64-c423-25631b9a2318"
      },
      "outputs": [
        {
          "output_type": "stream",
          "name": "stdout",
          "text": [
            "The sine of 30 degrees is 0.50\n"
          ]
        }
      ],
      "source": [
        "import math\n",
        "sine= math.sin(math.radians(30))\n",
        "print(f\"The sine of 30 degrees is {sine:.2f}\")\n"
      ]
    },
    {
      "cell_type": "markdown",
      "source": [
        "Random INTEGER"
      ],
      "metadata": {
        "id": "XbQKytvH3FG4"
      }
    },
    {
      "cell_type": "code",
      "source": [
        "import random as rng\n",
        "print(rng.randint(50,75))"
      ],
      "metadata": {
        "colab": {
          "base_uri": "https://localhost:8080/"
        },
        "id": "y9X1A8Qo3vpG",
        "outputId": "931911a4-827f-4822-b628-4e9fbd40c583"
      },
      "execution_count": 7,
      "outputs": [
        {
          "output_type": "stream",
          "name": "stdout",
          "text": [
            "53\n"
          ]
        }
      ]
    },
    {
      "cell_type": "markdown",
      "source": [
        "Square of 8 using user defined function calc.py"
      ],
      "metadata": {
        "id": "svllNAiv4KHw"
      }
    },
    {
      "cell_type": "code",
      "source": [
        "%%writefile calc123.py\n",
        "def square(a):\n",
        "  return a*a"
      ],
      "metadata": {
        "colab": {
          "base_uri": "https://localhost:8080/"
        },
        "id": "xV4Qjw3e4OaP",
        "outputId": "5d437a3e-aab6-4a17-f510-161124318d31"
      },
      "execution_count": 21,
      "outputs": [
        {
          "output_type": "stream",
          "name": "stdout",
          "text": [
            "Writing calc123.py\n"
          ]
        }
      ]
    },
    {
      "cell_type": "code",
      "source": [
        "import calc123\n",
        "print(calc123.square(8))"
      ],
      "metadata": {
        "colab": {
          "base_uri": "https://localhost:8080/"
        },
        "collapsed": true,
        "id": "QkY5A56643iB",
        "outputId": "1828fd59-020b-484a-c187-1f53b42d8d33"
      },
      "execution_count": 24,
      "outputs": [
        {
          "output_type": "stream",
          "name": "stdout",
          "text": [
            "64\n"
          ]
        }
      ]
    },
    {
      "cell_type": "markdown",
      "source": [
        "Random choice from fruits"
      ],
      "metadata": {
        "id": "jv5W9JdN7NUw"
      }
    },
    {
      "cell_type": "code",
      "source": [
        "from random import choice\n",
        "fruits= [\"Mango\", \"Apple\", \"Grape\"]\n",
        "print(choice(fruits))"
      ],
      "metadata": {
        "colab": {
          "base_uri": "https://localhost:8080/"
        },
        "id": "Z1SfI56p7RDN",
        "outputId": "2dcb8f71-c8f7-42bb-c02f-296a1c7fd822"
      },
      "execution_count": 32,
      "outputs": [
        {
          "output_type": "stream",
          "name": "stdout",
          "text": [
            "Grape\n"
          ]
        }
      ]
    }
  ]
}