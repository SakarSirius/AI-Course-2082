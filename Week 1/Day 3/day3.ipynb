{
 "cells": [
  {
   "cell_type": "markdown",
   "metadata": {
    "id": "SoMfB-fg_uOO"
   },
   "source": [
    "String Manipulation in Python"
   ]
  },
  {
   "cell_type": "code",
   "execution_count": 7,
   "metadata": {
    "colab": {
     "base_uri": "https://localhost:8080/"
    },
    "id": "O5txWQVL9jBc",
    "outputId": "f4f1a814-3ab1-45a9-a2be-325d8d63daeb"
   },
   "outputs": [
    {
     "name": "stdout",
     "output_type": "stream",
     "text": [
      "  Hello Python  \n",
      "  hello python  \n",
      "Hello Python\n",
      "  Hi Python  \n",
      "  Hello Java  \n",
      "['Hello', 'Python']\n",
      "Hello-Python\n"
     ]
    }
   ],
   "source": [
    "#Creating a variable named text which contains leading and trailing spaces\n",
    "text= \"  Hello Python  \"\n",
    "print(text)\n",
    "\n",
    "#using .lower() method/function to introduce lowercase\n",
    "print(text.lower())\n",
    "\n",
    "#removing the spaces\n",
    "print(text.strip())\n",
    "\n",
    "#replacing the words in text.\n",
    "print(text.replace(\"Hello\", \"Hi\"))\n",
    "print(text.replace(\"Python\", \"Java\"))\n",
    "\n",
    "#splitting and joining\n",
    "splitted=text.strip().split() #method or function chaining\n",
    "print(splitted)\n",
    "\n",
    "#using .join() method to join the separated words\n",
    "joined='-'.join(splitted)\n",
    "print(joined)"
   ]
  },
  {
   "cell_type": "markdown",
   "metadata": {
    "id": "ugVVAUPfC0l0"
   },
   "source": [
    "#Modular Programming in Python#"
   ]
  },
  {
   "cell_type": "code",
   "execution_count": 11,
   "metadata": {
    "colab": {
     "base_uri": "https://localhost:8080/"
    },
    "id": "720zCFm7C5MR",
    "outputId": "4fb7e581-edc0-4f57-e3cb-a73197e7d453"
   },
   "outputs": [
    {
     "name": "stdout",
     "output_type": "stream",
     "text": [
      "The square root of 25 is 5\n",
      "4\n",
      "5\n"
     ]
    }
   ],
   "source": [
    "#importing math module\n",
    "import math\n",
    "#getting sq root of number\n",
    "square_root=math.sqrt(25)\n",
    "print(\"The square root of 25 is\", int(square_root))\n",
    "\n",
    "#flooring and ceiling\n",
    "floor = math.floor(4.8)\n",
    "print(floor)\n",
    "ceil=math.ceil(4.8)\n",
    "print(ceil)"
   ]
  },
  {
   "cell_type": "markdown",
   "metadata": {
    "id": "PRsRPworEVeS"
   },
   "source": [
    "Module Aliasing"
   ]
  },
  {
   "cell_type": "code",
   "execution_count": null,
   "metadata": {
    "id": "xBn_X0UqEXW-"
   },
   "outputs": [],
   "source": [
    "import matplotlib.pyplot as plt"
   ]
  },
  {
   "cell_type": "markdown",
   "metadata": {
    "id": "e9XB4MpKEkFm"
   },
   "source": [
    "Variable Aliasing"
   ]
  },
  {
   "cell_type": "code",
   "execution_count": 13,
   "metadata": {
    "colab": {
     "base_uri": "https://localhost:8080/"
    },
    "id": "r0ELMMg5EmD4",
    "outputId": "7241f954-67f3-45d0-fb88-87118e1b8655"
   },
   "outputs": [
    {
     "name": "stdout",
     "output_type": "stream",
     "text": [
      "[1, 2, 3]\n",
      "[1, 2, 3, 4]\n",
      "[1, 2, 3, 4]\n"
     ]
    }
   ],
   "source": [
    "a= [1,2,3]\n",
    "b= a\n",
    "print(a)\n",
    "b.append(4)\n",
    "print(b)\n",
    "print(a)\n",
    "\n",
    "#Homework -> Function/Method Aliasing"
   ]
  },
  {
   "cell_type": "markdown",
   "metadata": {
    "id": "3SAlA4srFbPS"
   },
   "source": [
    "Randoms in PYthon"
   ]
  },
  {
   "cell_type": "code",
   "execution_count": 23,
   "metadata": {
    "colab": {
     "base_uri": "https://localhost:8080/"
    },
    "id": "s1PyW3cWFdlW",
    "outputId": "cd6eabbe-e5e9-4255-ba82-a603c8e6ee67"
   },
   "outputs": [
    {
     "name": "stdout",
     "output_type": "stream",
     "text": [
      "1\n",
      "0.4036986506590391\n",
      "70.39500613462758\n"
     ]
    }
   ],
   "source": [
    "import random as rdn\n",
    "print(rdn.randint(1,10)) #randint is for integer\n",
    "random_float=rdn.random() #random is for float\n",
    "print(random_float)\n",
    "random_floating_in_range = rdn.uniform(10.5,99.5)\n",
    "print(random_floating_in_range)\n",
    "\n",
    "#HomeWork Explore more modules on Functions/Methods"
   ]
  },
  {
   "cell_type": "markdown",
   "metadata": {
    "id": "nsC2AFfCG6fq"
   },
   "source": [
    "CREATING CUSTOM MODULES IN PYTHON"
   ]
  },
  {
   "cell_type": "code",
   "execution_count": 35,
   "metadata": {
    "colab": {
     "base_uri": "https://localhost:8080/"
    },
    "id": "idBMOpWFG-dA",
    "outputId": "49ebb0ea-163b-406c-9521-f8c30f57fb21"
   },
   "outputs": [
    {
     "name": "stdout",
     "output_type": "stream",
     "text": [
      "Writing helper123.py\n"
     ]
    }
   ],
   "source": [
    "#helper.py\n",
    "%%writefile helper123.py\n",
    "def add_numbers(a,b):\n",
    "  return a+b"
   ]
  },
  {
   "cell_type": "code",
   "execution_count": 37,
   "metadata": {
    "colab": {
     "base_uri": "https://localhost:8080/"
    },
    "id": "0Ve7lucCHRma",
    "outputId": "90727bab-a09a-4568-f6d6-97d732b4e739"
   },
   "outputs": [
    {
     "name": "stdout",
     "output_type": "stream",
     "text": [
      "39\n"
     ]
    }
   ],
   "source": [
    "#main.py\n",
    "import helper123\n",
    "result= helper123.add_numbers(15,24)\n",
    "print(result)"
   ]
  }
 ],
 "metadata": {
  "colab": {
   "provenance": []
  },
  "kernelspec": {
   "name": "python3",
   "display_name": "Python 3"
  },
  "language_info": {
   "name": "python"
  }
 },
 "nbformat": 4,
 "nbformat_minor": 0
}