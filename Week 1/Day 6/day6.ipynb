{
  "nbformat": 4,
  "nbformat_minor": 0,
  "metadata": {
    "colab": {
      "provenance": []
    },
    "kernelspec": {
      "name": "python3",
      "display_name": "Python 3"
    },
    "language_info": {
      "name": "python"
    }
  },
  "cells": [
    {
      "cell_type": "markdown",
      "source": [
        "#HANDS ON PRACTICE: PANDAS AND MATPLOTLIB"
      ],
      "metadata": {
        "id": "4xp_GFJmaPTQ"
      }
    },
    {
      "cell_type": "markdown",
      "source": [
        "EXERCISE 1: CREATING A PANDAS SERIES"
      ],
      "metadata": {
        "id": "jRVj0t0DaTO7"
      }
    },
    {
      "cell_type": "markdown",
      "source": [
        "PANDAS SERIES= 1D ARRAY WITH LABELS"
      ],
      "metadata": {
        "id": "Sr-LxHnIaa8L"
      }
    },
    {
      "cell_type": "code",
      "execution_count": 1,
      "metadata": {
        "colab": {
          "base_uri": "https://localhost:8080/"
        },
        "id": "HVRNuLtxaB50",
        "outputId": "ff2dd600-a5c7-477b-9f56-93c6a410ec6d"
      },
      "outputs": [
        {
          "output_type": "stream",
          "name": "stdout",
          "text": [
            "Math         30\n",
            "Physics      50\n",
            "Chemistry    29\n",
            "Biology      68\n",
            "English      89\n",
            "dtype: int64\n"
          ]
        }
      ],
      "source": [
        "#IMPORTING PANDAS MODULE\n",
        "import pandas as pd\n",
        "scores= pd.Series([30,50,29,68,89], index=[\"Math\",\"Physics\",\"Chemistry\", \"Biology\",\"English\"])\n",
        "print(scores)"
      ]
    },
    {
      "cell_type": "markdown",
      "source": [
        "Exercise 2:Creating a Pandas Data Frame"
      ],
      "metadata": {
        "id": "E5TfSF1Ga_so"
      }
    },
    {
      "cell_type": "markdown",
      "source": [
        "Data Frame is in a table format"
      ],
      "metadata": {
        "id": "KL6Kjo5_bIzV"
      }
    },
    {
      "cell_type": "code",
      "source": [
        "#Creating a dictionary\n",
        "data={\n",
        "    \"Name\":[\"Aarav\", \"Ramesh\", \"Monika\"],\n",
        "    \"Class\":[7,8,9],\n",
        "    \"Roll\":[1,2,3],\n",
        "    \"Address\":[\"Pokhara\",\"Butwal\",\"Jhapa\"]\n",
        "}\n",
        "#Turning dictionary into a dataframe\n",
        "df=pd.DataFrame(data)\n",
        "print(df)\n",
        "print(df.to_string(index=False)) #deleting index\n"
      ],
      "metadata": {
        "colab": {
          "base_uri": "https://localhost:8080/"
        },
        "id": "WtyivGbrbHVk",
        "outputId": "885b9f10-8ce9-4654-b869-23a0d274c452"
      },
      "execution_count": 3,
      "outputs": [
        {
          "output_type": "stream",
          "name": "stdout",
          "text": [
            "     Name  Class  Roll  Address\n",
            "0   Aarav      7     1  Pokhara\n",
            "1  Ramesh      8     2   Butwal\n",
            "2  Monika      9     3    Jhapa\n",
            "  Name  Class  Roll Address\n",
            " Aarav      7     1 Pokhara\n",
            "Ramesh      8     2  Butwal\n",
            "Monika      9     3   Jhapa\n"
          ]
        }
      ]
    },
    {
      "cell_type": "markdown",
      "source": [
        "Exercise 3: Filtering Data in a Data Frame"
      ],
      "metadata": {
        "id": "oC2nfp60dlth"
      }
    },
    {
      "cell_type": "code",
      "source": [
        "#Creating a dictionary\n",
        "data={\n",
        "    \"Name\":[\"Aarav\", \"Ramesh\", \"Monika\"],\n",
        "    \"Class\":[7,8,9],\n",
        "    \"Roll\":[1,2,3],\n",
        "    \"Address\":[\"Pokhara\",\"Butwal\",\"Jhapa\"]\n",
        "}\n",
        "#Turning dictionary into a dataframe\n",
        "df=pd.DataFrame(data)\n",
        "\n",
        "#Filtering\n",
        "filter=df[df[\"Roll\"]>2]\n",
        "print(filter)"
      ],
      "metadata": {
        "colab": {
          "base_uri": "https://localhost:8080/"
        },
        "id": "OLOE6ki2dq98",
        "outputId": "11d9e2a3-cbe6-4ccf-8ecc-165252b10620"
      },
      "execution_count": 5,
      "outputs": [
        {
          "output_type": "stream",
          "name": "stdout",
          "text": [
            "     Name  Class  Roll Address\n",
            "2  Monika      9     3   Jhapa\n"
          ]
        }
      ]
    },
    {
      "cell_type": "markdown",
      "source": [
        "Exercise 4: Reading and Processing a CSV File"
      ],
      "metadata": {
        "id": "QIoFv2SPezqz"
      }
    },
    {
      "cell_type": "code",
      "source": [
        "import io\n",
        "csv_data= \"\"\"\n",
        "Name, Class, Roll,Grade, Address\n",
        "Aarav, 7, 1,45, Pokhara\n",
        "Ramesh, 8, 2,55, Butwal\n",
        "Monika, 9, 3,65, Jhapa\n",
        "\"\"\"\n",
        "df= pd.read_csv(io.StringIO(csv_data))\n",
        "print(df)\n",
        "#Filtering\n",
        "filter= df[df[\" Roll\"]>2]\n",
        "print(filter)\n",
        "\n",
        "#Calculate average grade\n",
        "average_grade=df[\"Grade\"].mean()\n",
        "print(average_grade)"
      ],
      "metadata": {
        "colab": {
          "base_uri": "https://localhost:8080/"
        },
        "id": "GLVWqYNSe4zr",
        "outputId": "bfde953a-0af0-4b9a-9395-0baa89ccff69"
      },
      "execution_count": 12,
      "outputs": [
        {
          "output_type": "stream",
          "name": "stdout",
          "text": [
            "     Name   Class   Roll  Grade   Address\n",
            "0   Aarav       7      1     45   Pokhara\n",
            "1  Ramesh       8      2     55    Butwal\n",
            "2  Monika       9      3     65     Jhapa\n",
            "     Name   Class   Roll  Grade  Address\n",
            "2  Monika       9      3     65    Jhapa\n",
            "55.0\n"
          ]
        }
      ]
    },
    {
      "cell_type": "markdown",
      "source": [
        "##Exercise 5: Basic Plotting with matplotlib##"
      ],
      "metadata": {
        "id": "u3R0CX7Rhwab"
      }
    },
    {
      "cell_type": "code",
      "source": [
        "import matplotlib.pyplot as plt\n",
        "\n",
        "#Defining Data For basic Plotting\n",
        "x=[1,2,3,4,5]\n",
        "y=[2,4,6,8,10]\n",
        "\n",
        "plt.plot(x,y,marker=\"*\")\n",
        "plt.title(\"Basic Plotting\") #title of plot\n",
        "plt.xlabel(\"X Axis\")\n",
        "plt.ylabel(\"Y Axis\")\n",
        "plt.grid(True)\n",
        "plt.savefig(\"my_first_plot.png\")\n",
        "plt.show()"
      ],
      "metadata": {
        "colab": {
          "base_uri": "https://localhost:8080/",
          "height": 472
        },
        "id": "64wIrl96h3qP",
        "outputId": "6f414ea3-5ce1-48a8-f667-e9c5b86b5615"
      },
      "execution_count": 20,
      "outputs": [
        {
          "output_type": "display_data",
          "data": {
            "text/plain": [
              "<Figure size 640x480 with 1 Axes>"
            ],
            "image/png": "[encoded data removed]"
          },
          "metadata": {}
        }
      ]
    },
    {
      "cell_type": "markdown",
      "source": [
        "Exercise 6: Visualizing a DataFrame with Matplotlib"
      ],
      "metadata": {
        "id": "8W3PtpMJkKIo"
      }
    },
    {
      "cell_type": "code",
      "source": [
        "data={\n",
        "    \"Name\":[\"Aarav\", \"Ramesh\", \"Monika\",\"Ashwin\"],\n",
        "    \"Class\":[7,8,9,10],\n",
        "}\n",
        "df=pd.DataFrame(data)\n",
        "plt.bar(df[\"Name\"],df[\"Class\"])\n",
        "plt.title(\"Bar Graph\")\n",
        "plt.xlabel(\"Name\")\n",
        "plt.ylabel(\"Class\")\n",
        "plt.savefig(\"bar_graph.png\")\n",
        "plt.show()"
      ],
      "metadata": {
        "id": "KFWmEM_WkPiu",
        "outputId": "18dd5c83-565b-4d85-b600-fd3f58b37bc0",
        "colab": {
          "base_uri": "https://localhost:8080/",
          "height": 472
        }
      },
      "execution_count": 22,
      "outputs": [
        {
          "output_type": "display_data",
          "data": {
            "text/plain": [
              "<Figure size 640x480 with 1 Axes>"
            ],
            "image/png": "[encoded data removed]"
          },
          "metadata": {}
        }
      ]
    }
  ]
}