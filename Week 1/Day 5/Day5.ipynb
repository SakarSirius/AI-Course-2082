{
  "nbformat": 4,
  "nbformat_minor": 0,
  "metadata": {
    "colab": {
      "provenance": []
    },
    "kernelspec": {
      "name": "python3",
      "display_name": "Python 3"
    },
    "language_info": {
      "name": "python"
    }
  },
  "cells": [
    {
      "cell_type": "markdown",
      "source": [
        "# NUMPY BASICS#"
      ],
      "metadata": {
        "id": "ptdPYFu05IeS"
      }
    },
    {
      "cell_type": "markdown",
      "source": [
        "Creating a Numpy Array and its Attributes"
      ],
      "metadata": {
        "id": "4ktGoHph5MhD"
      }
    },
    {
      "cell_type": "code",
      "execution_count": null,
      "metadata": {
        "id": "_DAPqn4S5CvK"
      },
      "outputs": [],
      "source": [
        "#importing numpy library\n",
        "import numpy as np\n",
        "#creating a list\n",
        "my_list = [1,2,3,4,5]\n",
        "#changing the list into a numpy array\n",
        "my_array = np.array(my_list)\n",
        "#printing the array\n",
        "print(my_array)\n",
        "\n",
        "#changing the list into a 1D numpy array\n",
        "my_array=np.array([1,2,3,4,5])\n",
        "print(my_array)\n",
        "\n",
        "#creating a 0-D numpy array\n",
        "zero_array= np.array(42)\n",
        "#printing the 0-D numpy array\n",
        "print(zero_array)\n",
        "\n",
        "#Instead of creating a list on a separate variable we can directly pass it to .array() function\n",
        "my_array=np.array([1,2,3,4,5])\n",
        "print(my_array)\n",
        "\n",
        "#creating a 2d array\n",
        "two_d_array=np.array([[1,2,3],[4,5,6]])\n",
        "print(two_d_array)\n",
        "\n",
        "#lets create a 3d array now\n",
        "three_d_array=np.array([[[1,2,3],[4,5,6]],[[7,8,9],[10,11,12]]])\n",
        "#printing the 3d array\n",
        "print(three_d_array)"
      ]
    },
    {
      "cell_type": "code",
      "source": [
        "#lets create an array and see its attributes\n",
        "import numpy as np\n",
        "my_array=np.array([[1,2,3],[4,5,6]])\n",
        "print(my_array) #printing the array\n",
        "print(my_array.ndim) #printing the dimension of the array\n",
        "print(my_array.shape) #printing the shape of the array\n",
        "print(my_array.dtype) #printing the type of the array\n",
        "print(my_array.size) #printing the size of the array"
      ],
      "metadata": {
        "colab": {
          "base_uri": "https://localhost:8080/"
        },
        "id": "N6pWCPTX7UPv",
        "outputId": "8f6b7628-db7e-4deb-aa08-e44a730ac6c3"
      },
      "execution_count": null,
      "outputs": [
        {
          "output_type": "stream",
          "name": "stdout",
          "text": [
            "[[1 2 3]\n",
            " [4 5 6]]\n",
            "2\n",
            "(2, 3)\n",
            "int64\n",
            "6\n"
          ]
        }
      ]
    },
    {
      "cell_type": "markdown",
      "source": [
        "ACCESSING AND MANIPULATING ARRAY ELEMENTS"
      ],
      "metadata": {
        "id": "IXgaSfX09HPH"
      }
    },
    {
      "cell_type": "code",
      "source": [
        "#lets create a 1D array and print one of its elements\n",
        "one_arr=np.array([1,2,3,4,5,6])\n",
        "print(one_arr[4])\n",
        "\n",
        "#lets print using negative indexing\n",
        "print(one_arr[-3])\n",
        "\n"
      ],
      "metadata": {
        "colab": {
          "base_uri": "https://localhost:8080/"
        },
        "id": "x8EYqv8K9MOC",
        "outputId": "2c91d369-eada-40ea-fcaa-06515c09e557"
      },
      "execution_count": null,
      "outputs": [
        {
          "output_type": "stream",
          "name": "stdout",
          "text": [
            "5\n",
            "4\n"
          ]
        }
      ]
    },
    {
      "cell_type": "code",
      "source": [
        "import numpy as np\n",
        "#lets do for a 2d array\n",
        "two_arr=np.array([[1,2,3,4,5],[6,7,8,9,10]])\n",
        "print(two_arr[0,2])"
      ],
      "metadata": {
        "colab": {
          "base_uri": "https://localhost:8080/"
        },
        "id": "b9k8c8t29z0F",
        "outputId": "1ea0d0a4-c604-4951-867c-32f0572a5e92"
      },
      "execution_count": null,
      "outputs": [
        {
          "output_type": "stream",
          "name": "stdout",
          "text": [
            "3\n"
          ]
        }
      ]
    },
    {
      "cell_type": "code",
      "source": [
        "import numpy as np\n",
        "#lets move to 3d array\n",
        "three_arr=np.array([[[1,2,3],[4,5,6]],[[7,8,9],[10,11,12]]])\n",
        "print(three_arr[1,0,0])\n",
        "print(three_arr[-1,-2,-1]) #negative indexing"
      ],
      "metadata": {
        "colab": {
          "base_uri": "https://localhost:8080/"
        },
        "id": "jDmiBJv6-eq9",
        "outputId": "54d9cc08-8f65-40e6-8815-f10de2f0120c"
      },
      "execution_count": null,
      "outputs": [
        {
          "output_type": "stream",
          "name": "stdout",
          "text": [
            "7\n",
            "9\n"
          ]
        }
      ]
    },
    {
      "cell_type": "markdown",
      "source": [
        "#Slicing Arrays#"
      ],
      "metadata": {
        "id": "S5eXALZtA5U3"
      }
    },
    {
      "cell_type": "markdown",
      "source": [
        "Some Important Slicing Concepts\n",
        "\n",
        "\n",
        "array[start:end]\n",
        "\n",
        "\n",
        "array[start:end:steps]"
      ],
      "metadata": {
        "id": "QYxUTTT2Bnsa"
      }
    },
    {
      "cell_type": "code",
      "source": [
        "# slicing an array from 0th index to 8th index\n",
        "import numpy as np\n",
        "my_array=np.array([1,2,3,4,5,6,7,8,9,10])\n",
        "print(my_array[0:8])"
      ],
      "metadata": {
        "colab": {
          "base_uri": "https://localhost:8080/"
        },
        "id": "sBRy53roA25h",
        "outputId": "a2129210-bc98-43ef-ce20-c25e5fde0346"
      },
      "execution_count": null,
      "outputs": [
        {
          "output_type": "stream",
          "name": "stdout",
          "text": [
            "[1 2 3 4 5 6 7 8]\n"
          ]
        }
      ]
    },
    {
      "cell_type": "code",
      "source": [
        "# slicing an array with steps\n",
        "import numpy as np\n",
        "my_new_array=np.array([1,2,3,4,5,6,7,8,9,10])\n",
        "print(my_new_array[0:8:2])"
      ],
      "metadata": {
        "colab": {
          "base_uri": "https://localhost:8080/"
        },
        "id": "THsiUHoTClN9",
        "outputId": "9604356c-d427-42ac-d65b-79c64cc647a0"
      },
      "execution_count": null,
      "outputs": [
        {
          "output_type": "stream",
          "name": "stdout",
          "text": [
            "[1 3 5 7]\n"
          ]
        }
      ]
    },
    {
      "cell_type": "code",
      "source": [
        "#Slicing on a 2D array\n",
        "import numpy as np\n",
        "my_two_d=np.array([[1,2,3,4,5,6,7,8,9],[10,11,12,13,14,15,16,17,18]])\n",
        "print(my_two_d[1,0:6])\n",
        "print(my_two_d[0,3:6])\n"
      ],
      "metadata": {
        "colab": {
          "base_uri": "https://localhost:8080/"
        },
        "id": "OhlHbjbxD8Li",
        "outputId": "1c0b9136-f8e2-4580-d907-8d147ac2710b"
      },
      "execution_count": null,
      "outputs": [
        {
          "output_type": "stream",
          "name": "stdout",
          "text": [
            "[10 11 12 13 14 15]\n",
            "[4 5 6]\n"
          ]
        }
      ]
    },
    {
      "cell_type": "code",
      "source": [
        "import numpy as np\n",
        "np.ones([3,3])"
      ],
      "metadata": {
        "colab": {
          "base_uri": "https://localhost:8080/"
        },
        "id": "fZmPiCnFFSlG",
        "outputId": "1499b96e-f66a-4230-db9c-541e4fd863a5"
      },
      "execution_count": null,
      "outputs": [
        {
          "output_type": "execute_result",
          "data": {
            "text/plain": [
              "array([[1., 1., 1.],\n",
              "       [1., 1., 1.],\n",
              "       [1., 1., 1.]])"
            ]
          },
          "metadata": {},
          "execution_count": 10
        }
      ]
    },
    {
      "cell_type": "code",
      "source": [
        "import numpy as np\n",
        "np.zeros([3,3])"
      ],
      "metadata": {
        "colab": {
          "base_uri": "https://localhost:8080/"
        },
        "id": "ZNB1GUimFY-N",
        "outputId": "c81a2e50-fe6f-419d-cf6a-8fcbf0ec019a"
      },
      "execution_count": 3,
      "outputs": [
        {
          "output_type": "execute_result",
          "data": {
            "text/plain": [
              "array([[0., 0., 0.],\n",
              "       [0., 0., 0.],\n",
              "       [0., 0., 0.]])"
            ]
          },
          "metadata": {},
          "execution_count": 3
        }
      ]
    },
    {
      "cell_type": "code",
      "source": [
        "import numpy as np\n",
        "my_list=[7,14,21,28]\n",
        "my_array=np.array(my_list)\n",
        "print(my_array)\n"
      ],
      "metadata": {
        "id": "sgQGGsZNGNPx",
        "colab": {
          "base_uri": "https://localhost:8080/"
        },
        "outputId": "ce2adfaf-98d2-46c8-af59-f0af888711d4"
      },
      "execution_count": 1,
      "outputs": [
        {
          "output_type": "stream",
          "name": "stdout",
          "text": [
            "[ 7 14 21 28]\n"
          ]
        }
      ]
    },
    {
      "cell_type": "code",
      "source": [
        "import numpy as np\n",
        "two_d_array=np.array([[5,10,15],[20,25,30]])\n",
        "print(two_d_array.ndim)\n",
        "print(two_d_array.shape)\n"
      ],
      "metadata": {
        "id": "jIWhzqlrHA3w",
        "colab": {
          "base_uri": "https://localhost:8080/"
        },
        "outputId": "68c136a4-c3da-436f-aff7-37efc2990967"
      },
      "execution_count": 2,
      "outputs": [
        {
          "output_type": "stream",
          "name": "stdout",
          "text": [
            "2\n",
            "(2, 3)\n"
          ]
        }
      ]
    },
    {
      "cell_type": "code",
      "source": [
        "import numpy as np\n",
        "zeros=np.zeros([2,3])\n",
        "my_array=np.arange(0,13,3)\n",
        "print(zeros)\n",
        "print(my_array)"
      ],
      "metadata": {
        "colab": {
          "base_uri": "https://localhost:8080/"
        },
        "id": "J_DWOvKCINbJ",
        "outputId": "84d722be-625e-410e-fc77-91fd4a45ad09"
      },
      "execution_count": 8,
      "outputs": [
        {
          "output_type": "stream",
          "name": "stdout",
          "text": [
            "[[0. 0. 0.]\n",
            " [0. 0. 0.]]\n",
            "[ 0  3  6  9 12]\n"
          ]
        }
      ]
    },
    {
      "cell_type": "code",
      "source": [
        "import numpy as np\n",
        "my_array=np.array([2,4,6,8])\n",
        "print(3*my_array)"
      ],
      "metadata": {
        "colab": {
          "base_uri": "https://localhost:8080/"
        },
        "id": "gj5YWrRFJoda",
        "outputId": "011bfc42-ae71-454e-da87-baa0949d45f3"
      },
      "execution_count": 6,
      "outputs": [
        {
          "output_type": "stream",
          "name": "stdout",
          "text": [
            "[ 6 12 18 24]\n"
          ]
        }
      ]
    },
    {
      "cell_type": "code",
      "source": [
        "import numpy as np\n",
        "my_array=np.array([1,3,5,7,9,11])\n",
        "print(my_array[2])\n",
        "print(my_array[1:4])"
      ],
      "metadata": {
        "colab": {
          "base_uri": "https://localhost:8080/"
        },
        "id": "ykh8xsZqKDom",
        "outputId": "323c5858-f681-4297-cf64-fd29d7ec3387"
      },
      "execution_count": 7,
      "outputs": [
        {
          "output_type": "stream",
          "name": "stdout",
          "text": [
            "5\n",
            "[3 5 7]\n"
          ]
        }
      ]
    }
  ]
}