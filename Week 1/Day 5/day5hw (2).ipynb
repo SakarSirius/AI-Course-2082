{
  "cells": [
    {
      "cell_type": "code",
      "execution_count": null,
      "metadata": {
        "colab": {
          "base_uri": "https://localhost:8080/"
        },
        "id": "WE5Xz0BkLrDr",
        "outputId": "1aef9aa7-6dbf-458c-b34d-cd79b95b91a6"
      },
      "outputs": [
        {
          "name": "stdout",
          "output_type": "stream",
          "text": [
            "[[6 5 4]\n",
            " [7 3 3]\n",
            " [1 7 5]]\n",
            "[[0 5 4]\n",
            " [0 3 3]\n",
            " [1 0 5]]\n"
          ]
        }
      ],
      "source": [
        "import numpy as np\n",
        "my_array=np.random.randint(1,10,size=(3,3))\n",
        "print(my_array)\n",
        "my_array[my_array>5]=0\n",
        "print(my_array)"
      ]
    },
    {
      "cell_type": "code",
      "execution_count": null,
      "metadata": {
        "colab": {
          "base_uri": "https://localhost:8080/"
        },
        "id": "AoWZju0QN5up",
        "outputId": "1ebce5f5-795e-47d4-b531-9fbf42cb1ab2"
      },
      "outputs": [
        {
          "name": "stdout",
          "output_type": "stream",
          "text": [
            "[ 3  7 11 15]\n",
            "100\n"
          ]
        }
      ],
      "source": [
        "import numpy as np\n",
        "first_array=np.array([2,4,6,8])\n",
        "sec_array=np.array([1,3,5,7])\n",
        "result=first_array+sec_array\n",
        "dot_product=np.dot(first_array,sec_array)\n",
        "print(result)\n",
        "print(dot_product)\n"
      ]
    },
    {
      "cell_type": "code",
      "execution_count": null,
      "metadata": {
        "colab": {
          "background_save": true,
          "base_uri": "https://localhost:8080/"
        },
        "id": "KzYUkzr6POIN",
        "outputId": "c24866db-48c1-4719-a8bb-6b1853682517"
      },
      "outputs": [
        {
          "name": "stdout",
          "output_type": "stream",
          "text": [
            "[[1. 1. 1.]\n",
            " [1. 1. 1.]\n",
            " [1. 1. 1.]\n",
            " [1. 1. 1.]]\n",
            "[[11. 21. 31.]\n",
            " [11. 21. 31.]\n",
            " [11. 21. 31.]\n",
            " [11. 21. 31.]]\n"
          ]
        }
      ],
      "source": [
        "import numpy as np\n",
        "ones=np.ones([4,3])\n",
        "print(ones)\n",
        "one_d_array=np.array([10,20,30])\n",
        "result_array=np.add(ones,one_d_array)\n",
        "print(result_array)"
      ]
    },
    {
      "cell_type": "code",
      "execution_count": 4,
      "metadata": {
        "colab": {
          "base_uri": "https://localhost:8080/"
        },
        "id": "0L3SDKggT9mp",
        "outputId": "08721870-d539-4135-be20-3d4e34fb9292"
      },
      "outputs": [
        {
          "output_type": "stream",
          "name": "stdout",
          "text": [
            "[[1 2 3]\n",
            " [4 5 6]\n",
            " [7 8 9]]\n",
            "[2 5 8]\n",
            "5.0\n",
            "[1 2 3 4 5 6 7 8 9]\n"
          ]
        }
      ],
      "source": [
        "import numpy as np\n",
        "my_array=np.array([[1,2,3],[4,5,6],[7,8,9]])\n",
        "print(my_array)\n",
        "second_column = my_array[:, 1]\n",
        "print(second_column)\n",
        "col2_mean = np.mean(second_column)\n",
        "print(col2_mean)\n",
        "reshaped_array=my_array.reshape(-1)\n",
        "print(reshaped_array)\n"
      ]
    },
    {
      "cell_type": "code",
      "execution_count": 8,
      "metadata": {
        "id": "sfyDCUyPWsBJ",
        "colab": {
          "base_uri": "https://localhost:8080/"
        },
        "outputId": "de08a3fb-d036-444a-8e2c-09be0811b248"
      },
      "outputs": [
        {
          "output_type": "stream",
          "name": "stdout",
          "text": [
            "[10 20 30 40 50 60]\n",
            "[  10   20   30 1600 2500 3600]\n"
          ]
        }
      ],
      "source": [
        "import numpy as np\n",
        "one_d=np.array([10,20,30,40,50,60])\n",
        "print(one_d)\n",
        "one_d[one_d>30]=one_d[one_d>30]**2\n",
        "print(one_d)"
      ]
    },
    {
      "cell_type": "code",
      "source": [
        "import numpy as np\n",
        "one_d=np.arange(2,11,step=2)\n",
        "print(one_d)\n",
        "result=one_d+5\n",
        "print(result)"
      ],
      "metadata": {
        "colab": {
          "base_uri": "https://localhost:8080/"
        },
        "id": "I2xZ8n-QcxLP",
        "outputId": "74945c17-658c-409d-baf3-d0a5c5edbb26"
      },
      "execution_count": null,
      "outputs": [
        {
          "output_type": "stream",
          "name": "stdout",
          "text": [
            "[ 2  4  6  8 10]\n",
            "[ 7  9 11 13 15]\n"
          ]
        }
      ]
    },
    {
      "cell_type": "code",
      "source": [
        "import numpy as np\n",
        "two_d=np.array([[1,3,5],[2,4,6]])\n",
        "result= two_d[0]\n",
        "print(result)\n",
        "print(np.sum(result))"
      ],
      "metadata": {
        "colab": {
          "base_uri": "https://localhost:8080/"
        },
        "id": "hqonqtM3dWT4",
        "outputId": "0d7e3229-bfe2-4c1d-ab92-949094a42e62"
      },
      "execution_count": null,
      "outputs": [
        {
          "output_type": "stream",
          "name": "stdout",
          "text": [
            "[1 3 5]\n",
            "9\n"
          ]
        }
      ]
    }
  ],
  "metadata": {
    "colab": {
      "provenance": []
    },
    "kernelspec": {
      "display_name": "Python 3",
      "name": "python3"
    },
    "language_info": {
      "name": "python"
    }
  },
  "nbformat": 4,
  "nbformat_minor": 0
}