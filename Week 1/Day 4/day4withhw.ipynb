{
  "cells": [
    {
      "cell_type": "markdown",
      "metadata": {
        "id": "PWM-hkCu3_mB"
      },
      "source": [
        "# File Handling and Exception#"
      ]
    },
    {
      "cell_type": "markdown",
      "metadata": {
        "id": "GsCBv6OL4alb"
      },
      "source": [
        "Opening and Reading a File"
      ]
    },
    {
      "cell_type": "code",
      "execution_count": null,
      "metadata": {
        "colab": {
          "base_uri": "https://localhost:8080/"
        },
        "id": "_N9j6Cn334CT",
        "outputId": "fcc0240b-a387-47fe-d86f-ed5caf197ab4"
      },
      "outputs": [
        {
          "name": "stdout",
          "output_type": "stream",
          "text": [
            "This is AI training.\n",
            "We are learning basics of Python\n",
            "This is Google Colab.\n"
          ]
        }
      ],
      "source": [
        "f= open(\"file.txt\", \"r\")\n",
        "print(f.read())\n",
        "f.close()"
      ]
    },
    {
      "cell_type": "code",
      "execution_count": null,
      "metadata": {
        "id": "n9yPIM-95pr5"
      },
      "outputs": [],
      "source": []
    },
    {
      "cell_type": "code",
      "execution_count": null,
      "metadata": {
        "colab": {
          "base_uri": "https://localhost:8080/"
        },
        "id": "Up93n2R_5uTK",
        "outputId": "3ddd1436-9bd8-4a06-c50d-f7e3b373f139"
      },
      "outputs": [
        {
          "name": "stdout",
          "output_type": "stream",
          "text": [
            "This is AI training.\n",
            "\n"
          ]
        }
      ],
      "source": [
        "f= open(\"file.txt\", \"r\")\n",
        "print(f.readline())\n",
        "f.close()"
      ]
    },
    {
      "cell_type": "code",
      "execution_count": null,
      "metadata": {
        "id": "FqilzzM15-D9"
      },
      "outputs": [],
      "source": []
    },
    {
      "cell_type": "code",
      "execution_count": null,
      "metadata": {
        "colab": {
          "base_uri": "https://localhost:8080/"
        },
        "id": "99SaQGQv5-9F",
        "outputId": "c6e5bfc7-498c-4ee6-db2c-8f0167c22286"
      },
      "outputs": [
        {
          "name": "stdout",
          "output_type": "stream",
          "text": [
            "This is AI\n"
          ]
        }
      ],
      "source": [
        "f= open(\"file.txt\", \"r\")\n",
        "print(f.read(10))\n",
        "f.close()"
      ]
    },
    {
      "cell_type": "code",
      "execution_count": null,
      "metadata": {
        "id": "8rVWcTmr6Q7u"
      },
      "outputs": [],
      "source": []
    },
    {
      "cell_type": "code",
      "execution_count": null,
      "metadata": {
        "colab": {
          "base_uri": "https://localhost:8080/"
        },
        "id": "P48TAXVN6RnA",
        "outputId": "fcc0240b-a387-47fe-d86f-ed5caf197ab4"
      },
      "outputs": [
        {
          "name": "stdout",
          "output_type": "stream",
          "text": [
            "This is AI training.\n",
            "We are learning basics of Python\n",
            "This is Google Colab.\n"
          ]
        }
      ],
      "source": [
        "f= open(\"file.txt\", \"r\")\n",
        "print(f.read())\n",
        "f.close()"
      ]
    },
    {
      "cell_type": "code",
      "execution_count": null,
      "metadata": {
        "id": "NWPw-mob6gYF"
      },
      "outputs": [],
      "source": [
        "with open(\"file.txt\", \"r\") as f:\n",
        "    print(f.read()) #no need to close file"
      ]
    },
    {
      "cell_type": "markdown",
      "metadata": {
        "id": "pKiSTleg69Hv"
      },
      "source": [
        "Write Mode"
      ]
    },
    {
      "cell_type": "code",
      "execution_count": null,
      "metadata": {
        "id": "ebGFRXZm6-WH"
      },
      "outputs": [],
      "source": []
    },
    {
      "cell_type": "code",
      "execution_count": null,
      "metadata": {
        "id": "DcaU-lOB7AEW"
      },
      "outputs": [],
      "source": [
        "f= open(\"file.txt\", \"w\")\n",
        "f.write(\"I am just written!\")\n",
        "f.close()"
      ]
    },
    {
      "cell_type": "code",
      "execution_count": null,
      "metadata": {
        "id": "n1bITHpc7cuW"
      },
      "outputs": [],
      "source": [
        "with open(\"file.txt\", \"w\") as f:\n",
        "    f.write(\"I am just written!\")"
      ]
    },
    {
      "cell_type": "markdown",
      "metadata": {
        "id": "G8QyQsOB7mPo"
      },
      "source": [
        "  APPEND MODE"
      ]
    },
    {
      "cell_type": "code",
      "execution_count": null,
      "metadata": {
        "id": "3YOvluVX7oRP"
      },
      "outputs": [],
      "source": []
    },
    {
      "cell_type": "code",
      "execution_count": null,
      "metadata": {
        "id": "l0-Opkpr7qbU"
      },
      "outputs": [],
      "source": [
        "f= open(\"file.txt\", \"a\")\n",
        "f.write(\"\\nI have just been appended\")\n",
        "f.close()\n"
      ]
    },
    {
      "cell_type": "markdown",
      "metadata": {
        "id": "wG6Lqq7y8NL3"
      },
      "source": [
        "Deleting a File/Folder"
      ]
    },
    {
      "cell_type": "code",
      "execution_count": null,
      "metadata": {
        "id": "OC545WPu8PZl"
      },
      "outputs": [],
      "source": [
        "import os\n",
        "os.remove(\"file.txt\") # Removing a file"
      ]
    },
    {
      "cell_type": "code",
      "execution_count": null,
      "metadata": {
        "id": "kifuT2288jF1"
      },
      "outputs": [],
      "source": [
        "import os\n",
        "os.rmdir(\"/content/Delete me\") #Removing a folder"
      ]
    },
    {
      "cell_type": "markdown",
      "metadata": {
        "id": "_AKGTb8m95eI"
      },
      "source": [
        "ClassWork"
      ]
    },
    {
      "cell_type": "code",
      "execution_count": null,
      "metadata": {
        "colab": {
          "base_uri": "https://localhost:8080/"
        },
        "id": "TQPc1xCK96tC",
        "outputId": "d725896d-02e8-4ae0-c60a-1f25f17e4c8b"
      },
      "outputs": [
        {
          "output_type": "stream",
          "name": "stdout",
          "text": [
            "File not found\n"
          ]
        }
      ],
      "source": [
        "try:\n",
        "  with open(\"data.txt\", \"r\") as d:\n",
        "    print(d.readlines())\n",
        "except FileNotFoundError:\n",
        "  print(\"File not found\")"
      ]
    },
    {
      "cell_type": "code",
      "execution_count": null,
      "metadata": {
        "colab": {
          "base_uri": "https://localhost:8080/"
        },
        "id": "owsWJUP_-euR",
        "outputId": "6787a075-52e0-4864-a5c3-3443c0f184ed"
      },
      "outputs": [
        {
          "name": "stdout",
          "output_type": "stream",
          "text": [
            "Enter your name: sakar\n"
          ]
        }
      ],
      "source": [
        "try:\n",
        "  with open(\"data.txt\", \"w\") as d:\n",
        "    name=input(\"Enter your name: \")\n",
        "    d.write(name)\n",
        "except TypeError:\n",
        "  print(\"TypeError\")\n",
        "except ValueError:\n",
        "  print(\"Value Error\")"
      ]
    },
    {
      "cell_type": "code",
      "execution_count": null,
      "metadata": {
        "colab": {
          "base_uri": "https://localhost:8080/"
        },
        "id": "CyHeELfm_gV8",
        "outputId": "1eab0fea-9862-46f4-a62d-d59269660a10"
      },
      "outputs": [
        {
          "output_type": "stream",
          "name": "stdout",
          "text": [
            "5\n"
          ]
        }
      ],
      "source": [
        "try:\n",
        "  with open(\"story.txt\", \"r\") as s:\n",
        "    text=s.read()\n",
        "    count=text.split()\n",
        "    print(len(count))\n",
        "except FileNotFoundError:\n",
        "  print(\"File not found\")\n"
      ]
    },
    {
      "cell_type": "code",
      "execution_count": null,
      "metadata": {
        "id": "Xj0ThNMcAUjh",
        "colab": {
          "base_uri": "https://localhost:8080/"
        },
        "outputId": "155e83a8-1a98-4cea-bb8b-f8bcc7c2a7d5"
      },
      "outputs": [
        {
          "name": "stdout",
          "output_type": "stream",
          "text": [
            "Enter your notes: \n",
            "this is google colab\n"
          ]
        }
      ],
      "source": [
        "try:\n",
        "  with open(\"notes.txt\", \"a\") as n:\n",
        "    user_input=input(\"Enter your notes: \\n\")\n",
        "    n.write(user_input)\n",
        "except TypeError:\n",
        "  print(\"TypeError\")\n",
        "except ValueError:\n",
        "  print(\"Value Error\")"
      ]
    },
    {
      "cell_type": "code",
      "source": [
        "try:\n",
        "    total_sum = 0\n",
        "    with open(\"numbers.txt\", \"r\") as num:\n",
        "        for line in num:\n",
        "            try:\n",
        "                number = float(line.strip())  # Convert line to float, removing leading/trailing whitespace\n",
        "                total_sum += number\n",
        "            except ValueError:\n",
        "                print(f\"Skipping invalid data: {line.strip()}\")\n",
        "    print(f\"The sum of numbers is: {total_sum}\")\n",
        "\n",
        "except FileNotFoundError:\n",
        "    print(\"Error: 'numbers.txt' not found.\")"
      ],
      "metadata": {
        "id": "2VU-BAuHBrbp",
        "colab": {
          "base_uri": "https://localhost:8080/"
        },
        "outputId": "41f36079-4371-4716-e2a0-9881fdf85e7c"
      },
      "execution_count": null,
      "outputs": [
        {
          "output_type": "stream",
          "name": "stdout",
          "text": [
            "Skipping invalid data: a\n",
            "The sum of numbers is: 21.0\n"
          ]
        }
      ]
    },
    {
      "cell_type": "markdown",
      "source": [
        "BASIC EXCEPTION HANDLING"
      ],
      "metadata": {
        "id": "olhBd0XWECkV"
      }
    },
    {
      "cell_type": "code",
      "source": [
        "a=7\n",
        "print(a)"
      ],
      "metadata": {
        "colab": {
          "base_uri": "https://localhost:8080/"
        },
        "id": "b_xD9lBKEVvZ",
        "outputId": "3d0b53b7-a105-42a4-a55b-c5dc3be4f7e6"
      },
      "execution_count": null,
      "outputs": [
        {
          "output_type": "stream",
          "name": "stdout",
          "text": [
            "7\n"
          ]
        }
      ]
    },
    {
      "cell_type": "code",
      "source": [
        "try:\n",
        "  print(b)\n",
        "except NameError:\n",
        "  print(\"Name Error here\")\n"
      ],
      "metadata": {
        "colab": {
          "base_uri": "https://localhost:8080/"
        },
        "id": "3R3BY7ZmELro",
        "outputId": "a779d782-2da6-4fa8-9f14-e529ffae5c5a"
      },
      "execution_count": null,
      "outputs": [
        {
          "output_type": "stream",
          "name": "stdout",
          "text": [
            "Name Error here\n"
          ]
        }
      ]
    }
  ],
  "metadata": {
    "colab": {
      "provenance": []
    },
    "kernelspec": {
      "display_name": "Python 3",
      "name": "python3"
    },
    "language_info": {
      "name": "python"
    }
  },
  "nbformat": 4,
  "nbformat_minor": 0
}