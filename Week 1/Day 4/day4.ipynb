{
  "cells": [
    {
      "cell_type": "markdown",
      "metadata": {
        "id": "PWM-hkCu3_mB"
      },
      "source": [
        "# File Handling and Exception#"
      ]
    },
    {
      "cell_type": "markdown",
      "metadata": {
        "id": "GsCBv6OL4alb"
      },
      "source": [
        "Opening and Reading a File"
      ]
    },
    {
      "cell_type": "code",
      "execution_count": null,
      "metadata": {
        "colab": {
          "base_uri": "https://localhost:8080/"
        },
        "id": "_N9j6Cn334CT",
        "outputId": "fcc0240b-a387-47fe-d86f-ed5caf197ab4"
      },
      "outputs": [
        {
          "name": "stdout",
          "output_type": "stream",
          "text": [
            "This is AI training.\n",
            "We are learning basics of Python\n",
            "This is Google Colab.\n"
          ]
        }
      ],
      "source": [
        "f= open(\"file.txt\", \"r\")\n",
        "print(f.read())\n",
        "f.close()"
      ]
    },
    {
      "cell_type": "code",
      "execution_count": null,
      "metadata": {
        "id": "n9yPIM-95pr5"
      },
      "outputs": [],
      "source": []
    },
    {
      "cell_type": "code",
      "execution_count": null,
      "metadata": {
        "colab": {
          "base_uri": "https://localhost:8080/"
        },
        "id": "Up93n2R_5uTK",
        "outputId": "3ddd1436-9bd8-4a06-c50d-f7e3b373f139"
      },
      "outputs": [
        {
          "name": "stdout",
          "output_type": "stream",
          "text": [
            "This is AI training.\n",
            "\n"
          ]
        }
      ],
      "source": [
        "f= open(\"file.txt\", \"r\")\n",
        "print(f.readline())\n",
        "f.close()"
      ]
    },
    {
      "cell_type": "code",
      "execution_count": null,
      "metadata": {
        "id": "FqilzzM15-D9"
      },
      "outputs": [],
      "source": []
    },
    {
      "cell_type": "code",
      "execution_count": null,
      "metadata": {
        "colab": {
          "base_uri": "https://localhost:8080/"
        },
        "id": "99SaQGQv5-9F",
        "outputId": "c6e5bfc7-498c-4ee6-db2c-8f0167c22286"
      },
      "outputs": [
        {
          "name": "stdout",
          "output_type": "stream",
          "text": [
            "This is AI\n"
          ]
        }
      ],
      "source": [
        "f= open(\"file.txt\", \"r\")\n",
        "print(f.read(10))\n",
        "f.close()"
      ]
    },
    {
      "cell_type": "code",
      "execution_count": null,
      "metadata": {
        "id": "8rVWcTmr6Q7u"
      },
      "outputs": [],
      "source": []
    },
    {
      "cell_type": "code",
      "execution_count": null,
      "metadata": {
        "colab": {
          "base_uri": "https://localhost:8080/"
        },
        "id": "P48TAXVN6RnA",
        "outputId": "fcc0240b-a387-47fe-d86f-ed5caf197ab4"
      },
      "outputs": [
        {
          "name": "stdout",
          "output_type": "stream",
          "text": [
            "This is AI training.\n",
            "We are learning basics of Python\n",
            "This is Google Colab.\n"
          ]
        }
      ],
      "source": [
        "f= open(\"file.txt\", \"r\")\n",
        "print(f.read())\n",
        "f.close()"
      ]
    },
    {
      "cell_type": "code",
      "execution_count": null,
      "metadata": {
        "id": "NWPw-mob6gYF"
      },
      "outputs": [],
      "source": [
        "with open(\"file.txt\", \"r\") as f:\n",
        "    print(f.read()) #no need to close file"
      ]
    },
    {
      "cell_type": "markdown",
      "metadata": {
        "id": "pKiSTleg69Hv"
      },
      "source": [
        "Write Mode"
      ]
    },
    {
      "cell_type": "code",
      "execution_count": null,
      "metadata": {
        "id": "ebGFRXZm6-WH"
      },
      "outputs": [],
      "source": []
    },
    {
      "cell_type": "code",
      "execution_count": null,
      "metadata": {
        "id": "DcaU-lOB7AEW"
      },
      "outputs": [],
      "source": [
        "f= open(\"file.txt\", \"w\")\n",
        "f.write(\"I am just written!\")\n",
        "f.close()"
      ]
    },
    {
      "cell_type": "code",
      "execution_count": null,
      "metadata": {
        "id": "n1bITHpc7cuW"
      },
      "outputs": [],
      "source": [
        "with open(\"file.txt\", \"w\") as f:\n",
        "    f.write(\"I am just written!\")"
      ]
    },
    {
      "cell_type": "markdown",
      "metadata": {
        "id": "G8QyQsOB7mPo"
      },
      "source": [
        "  APPEND MODE"
      ]
    },
    {
      "cell_type": "code",
      "execution_count": null,
      "metadata": {
        "id": "3YOvluVX7oRP"
      },
      "outputs": [],
      "source": []
    },
    {
      "cell_type": "code",
      "execution_count": null,
      "metadata": {
        "id": "l0-Opkpr7qbU"
      },
      "outputs": [],
      "source": [
        "f= open(\"file.txt\", \"a\")\n",
        "f.write(\"\\nI have just been appended\")\n",
        "f.close()\n"
      ]
    },
    {
      "cell_type": "markdown",
      "metadata": {
        "id": "wG6Lqq7y8NL3"
      },
      "source": [
        "Deleting a File/Folder"
      ]
    },
    {
      "cell_type": "code",
      "execution_count": null,
      "metadata": {
        "id": "OC545WPu8PZl"
      },
      "outputs": [],
      "source": [
        "import os\n",
        "os.remove(\"file.txt\") # Removing a file"
      ]
    },
    {
      "cell_type": "code",
      "execution_count": null,
      "metadata": {
        "id": "kifuT2288jF1"
      },
      "outputs": [],
      "source": [
        "import os\n",
        "os.rmdir(\"/content/Delete me\") #Removing a folder"
      ]
    },
    {
      "cell_type": "markdown",
      "metadata": {
        "id": "_AKGTb8m95eI"
      },
      "source": [
        "ClassWork"
      ]
    },
    {
      "cell_type": "code",
      "execution_count": null,
      "metadata": {
        "colab": {
          "base_uri": "https://localhost:8080/"
        },
        "id": "TQPc1xCK96tC",
        "outputId": "96c3b94f-2ed9-4593-b7e4-3e8fc80e9ea2"
      },
      "outputs": [
        {
          "name": "stdout",
          "output_type": "stream",
          "text": [
            "['This is our classwork.\\n', 'We have to finish this on time.\\n', 'Today is Saturday.\\n']\n"
          ]
        }
      ],
      "source": [
        "with open(\"data.txt\", \"r\") as d:\n",
        "  print(d.readlines())"
      ]
    },
    {
      "cell_type": "code",
      "execution_count": null,
      "metadata": {
        "colab": {
          "base_uri": "https://localhost:8080/"
        },
        "id": "owsWJUP_-euR",
        "outputId": "02a32ced-8cb3-45f3-9068-cd8738162316"
      },
      "outputs": [
        {
          "name": "stdout",
          "output_type": "stream",
          "text": [
            "Enter your name: Sakar\n"
          ]
        }
      ],
      "source": [
        "with open(\"data.txt\", \"w\") as d:\n",
        "  name=input(\"Enter your name: \")\n",
        "  d.write(name)"
      ]
    },
    {
      "cell_type": "code",
      "execution_count": null,
      "metadata": {
        "id": "EZ0s5yyi_cyE"
      },
      "outputs": [],
      "source": []
    },
    {
      "cell_type": "code",
      "execution_count": 23,
      "metadata": {
        "colab": {
          "base_uri": "https://localhost:8080/"
        },
        "id": "CyHeELfm_gV8",
        "outputId": "950aa80e-5e11-4c9d-e1e5-08368fb18b19"
      },
      "outputs": [
        {
          "output_type": "stream",
          "name": "stdout",
          "text": [
            "19\n"
          ]
        }
      ],
      "source": [
        "with open(\"story.txt\", \"r\") as s:\n",
        "  text=s.read()\n",
        "  count=text.split()\n",
        "  print(len(count))"
      ]
    },
    {
      "cell_type": "code",
      "execution_count": 22,
      "metadata": {
        "id": "Xj0ThNMcAUjh",
        "colab": {
          "base_uri": "https://localhost:8080/"
        },
        "outputId": "1edc1d15-7738-4ab6-9915-be3d5d84bd0c"
      },
      "outputs": [
        {
          "name": "stdout",
          "output_type": "stream",
          "text": [
            "Enter your notes: \n",
            "\\n Seep mela day 4\n"
          ]
        }
      ],
      "source": [
        "with open(\"notes.txt\", \"a\") as n:\n",
        "  user_input=input(\"Enter your notes: \\n\")\n",
        "  n.write(user_input)"
      ]
    },
    {
      "cell_type": "code",
      "source": [
        "with open(\"numbers.txt\", \"r\") as num:\n",
        "  print(num.read())"
      ],
      "metadata": {
        "id": "2VU-BAuHBrbp"
      },
      "execution_count": null,
      "outputs": []
    },
    {
      "cell_type": "markdown",
      "source": [
        "BASIC EXCEPTION HANDLING"
      ],
      "metadata": {
        "id": "olhBd0XWECkV"
      }
    },
    {
      "cell_type": "code",
      "source": [
        "a=7\n",
        "print(a)"
      ],
      "metadata": {
        "colab": {
          "base_uri": "https://localhost:8080/"
        },
        "id": "b_xD9lBKEVvZ",
        "outputId": "3d0b53b7-a105-42a4-a55b-c5dc3be4f7e6"
      },
      "execution_count": 26,
      "outputs": [
        {
          "output_type": "stream",
          "name": "stdout",
          "text": [
            "7\n"
          ]
        }
      ]
    },
    {
      "cell_type": "code",
      "source": [
        "try:\n",
        "  print(b)\n",
        "except NameError:\n",
        "  print(\"Name Error here\")\n",
        ""
      ],
      "metadata": {
        "colab": {
          "base_uri": "https://localhost:8080/"
        },
        "id": "3R3BY7ZmELro",
        "outputId": "a779d782-2da6-4fa8-9f14-e529ffae5c5a"
      },
      "execution_count": 29,
      "outputs": [
        {
          "output_type": "stream",
          "name": "stdout",
          "text": [
            "Name Error here\n"
          ]
        }
      ]
    }
  ],
  "metadata": {
    "colab": {
      "provenance": []
    },
    "kernelspec": {
      "display_name": "Python 3",
      "name": "python3"
    },
    "language_info": {
      "name": "python"
    }
  },
  "nbformat": 4,
  "nbformat_minor": 0
}