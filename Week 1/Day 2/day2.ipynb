{
 "cells": [
  {
   "cell_type": "markdown",
   "metadata": {
    "id": "i_42TwT7rxXO"
   },
   "source": [
    "## **Day-1 Coding**"
   ]
  },
  {
   "cell_type": "code",
   "execution_count": null,
   "metadata": {
    "colab": {
     "base_uri": "https://localhost:8080/"
    },
    "id": "keM29lgAqjon",
    "outputId": "d9468745-5503-4fed-c4aa-2fef33091f81"
   },
   "outputs": [
    {
     "name": "stdout",
     "output_type": "stream",
     "text": [
      "This is my first day coding python\n"
     ]
    }
   ],
   "source": [
    "print(\"This is my first day coding python\")"
   ]
  },
  {
   "cell_type": "markdown",
   "metadata": {
    "id": "NmDlSF78tvtn"
   },
   "source": [
    "# LOOPS IN PYTHON"
   ]
  },
  {
   "cell_type": "code",
   "execution_count": null,
   "metadata": {
    "colab": {
     "base_uri": "https://localhost:8080/"
    },
    "id": "Mytacu63txqE",
    "outputId": "28966569-f4ee-45d3-f400-35c301d09ce5"
   },
   "outputs": [
    {
     "name": "stdout",
     "output_type": "stream",
     "text": [
      "1\n",
      "8\n",
      "27\n",
      "64\n",
      "125\n",
      "216\n",
      "343\n",
      "512\n",
      "729\n",
      "1000\n"
     ]
    }
   ],
   "source": [
    "# Top 10 natural number ko cube\n",
    "for i in range(1,11):\n",
    "  print (i * i * i)"
   ]
  },
  {
   "cell_type": "markdown",
   "metadata": {
    "id": "x-nPMxy4uqas"
   },
   "source": [
    "# FUNCTIONS IN PYTHON"
   ]
  },
  {
   "cell_type": "code",
   "execution_count": null,
   "metadata": {
    "colab": {
     "base_uri": "https://localhost:8080/"
    },
    "id": "1jpxc5tiuWZk",
    "outputId": "23887065-3d5f-417d-d60b-7d4e8efb8e96"
   },
   "outputs": [
    {
     "name": "stdout",
     "output_type": "stream",
     "text": [
      "The area of first square is: 36\n",
      "The area of second square is: 256\n"
     ]
    }
   ],
   "source": [
    "# Declaring function to calculate square of a number\n",
    "def calculate_square(length):\n",
    " return length * length\n",
    "\n",
    "#Calling a function to print square of first square\n",
    "print(\"The area of first square is:\",calculate_square(6))\n",
    "print(\"The area of second square is:\",calculate_square(16))"
   ]
  },
  {
   "cell_type": "markdown",
   "metadata": {
    "id": "l1LDRL8hvroF"
   },
   "source": [
    "# Homework: Find area of circle"
   ]
  },
  {
   "cell_type": "markdown",
   "metadata": {
    "id": "T6UFWzaqwpSl"
   },
   "source": [
    "# LISTS IN PYTHON"
   ]
  },
  {
   "cell_type": "code",
   "execution_count": null,
   "metadata": {
    "colab": {
     "base_uri": "https://localhost:8080/"
    },
    "id": "tgN4ObUMvNom",
    "outputId": "26e38b94-666f-4ced-820a-f2ee9bd23975"
   },
   "outputs": [
    {
     "name": "stdout",
     "output_type": "stream",
     "text": [
      "['apples', 'banana', 'mango', 'litchi', 'watermelon']\n",
      "['apples', 'banana', 'mango', 'litchi', 'watermelon', 'pineapple']\n",
      "['apples', 'banana', 'litchi', 'watermelon', 'pineapple']\n"
     ]
    }
   ],
   "source": [
    "# Write comments here\n",
    "fruits = [\"apples\", \"banana\", \"mango\", \"litchi\", \"watermelon\"]\n",
    "print(fruits)\n",
    "\n",
    "# #Accessing elements from the list\n",
    "# print(fruits[0]) #first index\n",
    "# print(fruits[-1])\n",
    "# print(fruits[4])\n",
    "\n",
    "# #Adding and removing elements from the list\n",
    "# fruits.append(\"pineapple\")\n",
    "# print(fruits)\n",
    "\n",
    "fruits.remove(\"mango\")\n",
    "print(fruits)"
   ]
  },
  {
   "cell_type": "markdown",
   "metadata": {
    "id": "PAKkzZKWylnN"
   },
   "source": [
    "# SETS AND TUPLES(HOME-RESEARCH)"
   ]
  },
  {
   "cell_type": "markdown",
   "metadata": {
    "id": "2kg0V9IoyqJb"
   },
   "source": [
    "# DICTIONARY IN PYTHON"
   ]
  },
  {
   "cell_type": "code",
   "execution_count": 18,
   "metadata": {
    "id": "hTk992LFw6Y2",
    "colab": {
     "base_uri": "https://localhost:8080/"
    },
    "outputId": "598c244e-28c8-493a-a068-5e7352235d1f"
   },
   "outputs": [
    {
     "name": "stdout",
     "output_type": "stream",
     "text": [
      "{'name': 'Ramu', 'class': 7, 'gender': 'male'}\n",
      "{'name': 'Ramu', 'class': 7, 'gender': 'female'}\n",
      "{'name': 'Ramu', 'class': 7, 'gender': 'female', 'roll_no': 10}\n",
      "{'name': 'Ramu', 'gender': 'female', 'roll_no': 10}\n"
     ]
    }
   ],
   "source": [
    "student = {\n",
    "    \"name\" : \"Ramu\",\n",
    "    \"class\" : 7,\n",
    "    \"gender\" : \"male\"\n",
    "}\n",
    "\n",
    "# #Accessing values from keys in a dictionary\n",
    "# print(student[\"name\"])\n",
    "# print(student[\"class\"])\n",
    "\n",
    "print(student)\n",
    "\n",
    "#Updating values of a particular key in a dictionary\n",
    "student[\"gender\"] = \"female\"\n",
    "print(student)\n",
    "\n",
    "#Adding a new key-value pair into the existing dictionary\n",
    "student[\"roll_no\"] = 10\n",
    "print(student)\n",
    "\n",
    "#Deleting a key-value pair from the existing dictionary\n",
    "del student[\"class\"]\n",
    "print(student)"
   ]
  },
  {
   "cell_type": "code",
   "execution_count": null,
   "metadata": {
    "id": "Jil_96Pc0Chd"
   },
   "outputs": [],
   "source": [
    ""
   ]
  },
  {
   "cell_type": "code",
   "execution_count": null,
   "metadata": {},
   "outputs": [],
   "source": [
    ""
   ]
  }
 ],
 "metadata": {
  "colab": {
   "provenance": []
  },
  "kernelspec": {
   "name": "python3",
   "display_name": "Python 3"
  },
  "language_info": {
   "name": "python"
  }
 },
 "nbformat": 4,
 "nbformat_minor": 0
}