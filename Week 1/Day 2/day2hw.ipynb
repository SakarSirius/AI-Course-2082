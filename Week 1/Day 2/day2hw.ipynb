{
 "cells": [
  {
   "cell_type": "markdown",
   "metadata": {
    "id": "i_42TwT7rxXO"
   },
   "source": [
    "## **Day-1 Coding**"
   ]
  },
  {
   "cell_type": "code",
   "execution_count": null,
   "metadata": {
    "colab": {
     "base_uri": "https://localhost:8080/"
    },
    "id": "keM29lgAqjon",
    "outputId": "d9468745-5503-4fed-c4aa-2fef33091f81"
   },
   "outputs": [
    {
     "name": "stdout",
     "output_type": "stream",
     "text": [
      "This is my first day coding python\n"
     ]
    }
   ],
   "source": [
    "print(\"This is my first day coding python\")"
   ]
  },
  {
   "cell_type": "markdown",
   "metadata": {
    "id": "NmDlSF78tvtn"
   },
   "source": [
    "# LOOPS IN PYTHON"
   ]
  },
  {
   "cell_type": "code",
   "execution_count": null,
   "metadata": {
    "colab": {
     "base_uri": "https://localhost:8080/"
    },
    "id": "Mytacu63txqE",
    "outputId": "28966569-f4ee-45d3-f400-35c301d09ce5"
   },
   "outputs": [
    {
     "name": "stdout",
     "output_type": "stream",
     "text": [
      "1\n",
      "8\n",
      "27\n",
      "64\n",
      "125\n",
      "216\n",
      "343\n",
      "512\n",
      "729\n",
      "1000\n"
     ]
    }
   ],
   "source": [
    "# Top 10 natural number ko cube\n",
    "for i in range(1,11):\n",
    "  print (i * i * i)"
   ]
  },
  {
   "cell_type": "markdown",
   "metadata": {
    "id": "x-nPMxy4uqas"
   },
   "source": [
    "# FUNCTIONS IN PYTHON"
   ]
  },
  {
   "cell_type": "code",
   "execution_count": null,
   "metadata": {
    "colab": {
     "base_uri": "https://localhost:8080/"
    },
    "id": "1jpxc5tiuWZk",
    "outputId": "23887065-3d5f-417d-d60b-7d4e8efb8e96"
   },
   "outputs": [
    {
     "name": "stdout",
     "output_type": "stream",
     "text": [
      "The area of first square is: 36\n",
      "The area of second square is: 256\n"
     ]
    }
   ],
   "source": [
    "# Declaring function to calculate square of a number\n",
    "def calculate_square(length):\n",
    " return length * length\n",
    "\n",
    "#Calling a function to print square of first square\n",
    "print(\"The area of first square is:\",calculate_square(6))\n",
    "print(\"The area of second square is:\",calculate_square(16))"
   ]
  },
  {
   "cell_type": "markdown",
   "metadata": {
    "id": "l1LDRL8hvroF"
   },
   "source": [
    "# Homework: Find area of circle"
   ]
  },
  {
   "cell_type": "code",
   "execution_count": 2,
   "metadata": {
    "colab": {
     "base_uri": "https://localhost:8080/"
    },
    "id": "RYgV0hbcjjDf",
    "outputId": "bbc99c62-6b4f-401b-8ec2-863840aab45b"
   },
   "outputs": [
    {
     "name": "stdout",
     "output_type": "stream",
     "text": [
      "This program finds the area of circle\n",
      "Enter the radius of circle10\n",
      "The area of circle is 314.29\n"
     ]
    }
   ],
   "source": [
    "print(\"This program finds the area of circle\")\n",
    "r=float(input(\"Enter the radius of circle\"))\n",
    "area=(22/7)*r*r\n",
    "print(f\"The area of circle is {area:.2f}\")"
   ]
  },
  {
   "cell_type": "markdown",
   "metadata": {
    "id": "T6UFWzaqwpSl"
   },
   "source": [
    "# LISTS IN PYTHON"
   ]
  },
  {
   "cell_type": "code",
   "execution_count": null,
   "metadata": {
    "colab": {
     "base_uri": "https://localhost:8080/"
    },
    "id": "tgN4ObUMvNom",
    "outputId": "26e38b94-666f-4ced-820a-f2ee9bd23975"
   },
   "outputs": [
    {
     "name": "stdout",
     "output_type": "stream",
     "text": [
      "['apples', 'banana', 'mango', 'litchi', 'watermelon']\n",
      "['apples', 'banana', 'mango', 'litchi', 'watermelon', 'pineapple']\n",
      "['apples', 'banana', 'litchi', 'watermelon', 'pineapple']\n"
     ]
    }
   ],
   "source": [
    "# Write comments here\n",
    "fruits = [\"apples\", \"banana\", \"mango\", \"litchi\", \"watermelon\"]\n",
    "print(fruits)\n",
    "\n",
    "# #Accessing elements from the list\n",
    "# print(fruits[0]) #first index\n",
    "# print(fruits[-1])\n",
    "# print(fruits[4])\n",
    "\n",
    "# #Adding and removing elements from the list\n",
    "# fruits.append(\"pineapple\")\n",
    "# print(fruits)\n",
    "\n",
    "fruits.remove(\"mango\")\n",
    "print(fruits)"
   ]
  },
  {
   "cell_type": "markdown",
   "metadata": {
    "id": "PAKkzZKWylnN"
   },
   "source": [
    "# SETS AND TUPLES(HOME-RESEARCH)"
   ]
  },
  {
   "cell_type": "markdown",
   "metadata": {
    "id": "2kg0V9IoyqJb"
   },
   "source": [
    "# DICTIONARY IN PYTHON"
   ]
  },
  {
   "cell_type": "code",
   "execution_count": null,
   "metadata": {
    "id": "hTk992LFw6Y2",
    "colab": {
     "base_uri": "https://localhost:8080/"
    },
    "outputId": "598c244e-28c8-493a-a068-5e7352235d1f"
   },
   "outputs": [
    {
     "name": "stdout",
     "output_type": "stream",
     "text": [
      "{'name': 'Ramu', 'class': 7, 'gender': 'male'}\n",
      "{'name': 'Ramu', 'class': 7, 'gender': 'female'}\n",
      "{'name': 'Ramu', 'class': 7, 'gender': 'female', 'roll_no': 10}\n",
      "{'name': 'Ramu', 'gender': 'female', 'roll_no': 10}\n"
     ]
    }
   ],
   "source": [
    "student = {\n",
    "    \"name\" : \"Ramu\",\n",
    "    \"class\" : 7,\n",
    "    \"gender\" : \"male\"\n",
    "}\n",
    "\n",
    "# #Accessing values from keys in a dictionary\n",
    "# print(student[\"name\"])\n",
    "# print(student[\"class\"])\n",
    "\n",
    "print(student)\n",
    "\n",
    "#Updating values of a particular key in a dictionary\n",
    "student[\"gender\"] = \"female\"\n",
    "print(student)\n",
    "\n",
    "#Adding a new key-value pair into the existing dictionary\n",
    "student[\"roll_no\"] = 10\n",
    "print(student)\n",
    "\n",
    "#Deleting a key-value pair from the existing dictionary\n",
    "del student[\"class\"]\n",
    "print(student)"
   ]
  },
  {
   "cell_type": "markdown",
   "metadata": {
    "id": "nKsrBuCCkxIM"
   },
   "source": [
    "**AGE CALCULATOR**"
   ]
  },
  {
   "cell_type": "code",
   "execution_count": 3,
   "metadata": {
    "id": "Jil_96Pc0Chd",
    "colab": {
     "base_uri": "https://localhost:8080/"
    },
    "outputId": "5c8651c3-d2ad-48dc-ff8b-1c96accb3b76"
   },
   "outputs": [
    {
     "name": "stdout",
     "output_type": "stream",
     "text": [
      "This program calculates age\n",
      "Enter your birth year in AD2002\n",
      "Your age is 23 years.\n"
     ]
    }
   ],
   "source": [
    "print(\"This program calculates age\")\n",
    "birthyear=int(input(\"Enter your birth year in AD\"))\n",
    "currentyear=2025\n",
    "if (birthyear>currentyear):\n",
    "    print(\"You cannot be born in the future.\")\n",
    "else:\n",
    "    age = currentyear - birthyear\n",
    "    print(f\"Your age is {age} years.\")"
   ]
  },
  {
   "cell_type": "markdown",
   "metadata": {
    "id": "hdhB-YWtlGd7"
   },
   "source": [
    "**SIMPLE INTEREST CALCULATOR**"
   ]
  },
  {
   "cell_type": "code",
   "execution_count": 5,
   "metadata": {
    "colab": {
     "base_uri": "https://localhost:8080/"
    },
    "id": "k6qQ5a0SlPcg",
    "outputId": "54d3208d-48e2-4100-81dd-fcaaf96a7b49"
   },
   "outputs": [
    {
     "name": "stdout",
     "output_type": "stream",
     "text": [
      "This program helps to calculate simple interest\n",
      "Enter the principal amount1000000\n",
      "Enter the interest rate10\n",
      "Enter the time period10\n",
      "The simple interest is: Rs.1,000,000.00\n"
     ]
    }
   ],
   "source": [
    "print(\"This program helps to calculate simple interest\")\n",
    "P=float(input(\"Enter the principal amount\"))\n",
    "R=float(input(\"Enter the interest rate\"))\n",
    "T=float(input(\"Enter the time period\"))\n",
    "SI=(P*T*R)/100\n",
    "formatted_SI=f\"Rs.{SI:,.2f}\"\n",
    "print(f\"The simple interest is: {formatted_SI}\")"
   ]
  },
  {
   "cell_type": "markdown",
   "metadata": {
    "id": "UJoPfxXTlfhs"
   },
   "source": [
    "**BMI CALCULATOR**"
   ]
  },
  {
   "cell_type": "code",
   "execution_count": 6,
   "metadata": {
    "colab": {
     "base_uri": "https://localhost:8080/"
    },
    "id": "Y3a0OP43lm8x",
    "outputId": "4db82750-0897-4cdc-adb5-e94c03e40a19",
    "collapsed": false
   },
   "outputs": [
    {
     "name": "stdout",
     "output_type": "stream",
     "text": [
      "This program calculates your BMI\n",
      "Enter your height in meters1.62\n",
      "Enter your weight in kg48\n",
      "Your BMI is 18.289894833104707\n",
      "You are Underweight\n"
     ]
    }
   ],
   "source": [
    "print(\"This program calculates your BMI\")\n",
    "H=float(input(\"Enter your height in meters\"))\n",
    "W=float(input(\"Enter your weight in kg\"))\n",
    "BMI=W/(H*H)\n",
    "print(f\"Your BMI is {BMI}\")\n",
    "if(BMI<18.5):\n",
    "    print(\"You are Underweight\")\n",
    "elif(BMI>=25):\n",
    "    print(\"Your are Overweight\")\n",
    "else:\n",
    "    print(\"You are normal\")"
   ]
  },
  {
   "cell_type": "heading",
   "metadata": {
    "id": "izQSdgpTmGIH"
   },
   "level": 1,
   "source": [
    "**CURRENCY CONVERTER**"
   ]
  },
  {
   "cell_type": "code",
   "execution_count": 7,
   "metadata": {
    "colab": {
     "base_uri": "https://localhost:8080/"
    },
    "id": "aLWWBOsumLrm",
    "outputId": "5f3fc38a-6d21-4107-f7e7-4a055e501f2b"
   },
   "outputs": [
    {
     "name": "stdout",
     "output_type": "stream",
     "text": [
      "This program converts local currency in NPR to US Dollars\n",
      "Enter the amount in NPR5000000\n",
      "The amount in USD is: $37,878.79\n"
     ]
    }
   ],
   "source": [
    "print(\"This program converts local currency in NPR to US Dollars\")\n",
    "NPR=float(input(\"Enter the amount in NPR\"))\n",
    "USD=NPR/132\n",
    "print(f\"The amount in USD is: ${USD:,.2f}\")"
   ]
  }
 ],
 "metadata": {
  "colab": {
   "provenance": [],
   "toc_visible": true
  },
  "kernelspec": {
   "name": "python3",
   "display_name": "Python 3"
  },
  "language_info": {
   "name": "python"
  }
 },
 "nbformat": 4,
 "nbformat_minor": 0
}