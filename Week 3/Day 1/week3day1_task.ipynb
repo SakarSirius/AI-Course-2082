{
  "nbformat": 4,
  "nbformat_minor": 0,
  "metadata": {
    "colab": {
      "provenance": []
    },
    "kernelspec": {
      "name": "python3",
      "display_name": "Python 3"
    },
    "language_info": {
      "name": "python"
    }
  },
  "cells": [
    {
      "cell_type": "code",
      "execution_count": 7,
      "metadata": {
        "colab": {
          "base_uri": "https://localhost:8080/"
        },
        "id": "vF1An8a6oYMr",
        "outputId": "fae9b3b1-e2a0-4910-8c96-d65ca1c6f69c"
      },
      "outputs": [
        {
          "output_type": "stream",
          "name": "stdout",
          "text": [
            "['Banana']\n"
          ]
        },
        {
          "output_type": "stream",
          "name": "stderr",
          "text": [
            "/usr/local/lib/python3.11/dist-packages/sklearn/utils/validation.py:2739: UserWarning: X does not have valid feature names, but DecisionTreeClassifier was fitted with feature names\n",
            "  warnings.warn(\n"
          ]
        }
      ],
      "source": [
        "#importing libraries\n",
        "\n",
        "import pandas as pd\n",
        "from sklearn.tree import DecisionTreeClassifier\n",
        "\n",
        "df=pd.read_csv('/content/fruits_dataset.csv')\n",
        "\n",
        "a=df['Fruit']\n",
        "b=df[['Weight (grams)']]\n",
        "\n",
        "#Creating model\n",
        "model=DecisionTreeClassifier()\n",
        "\n",
        "#Training model\n",
        "model.fit(b,a)\n",
        "\n",
        "#Making predictions\n",
        "print(model.predict([[123]]))"
      ]
    }
  ]
}