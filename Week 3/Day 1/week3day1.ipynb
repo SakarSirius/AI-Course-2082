{
  "cells": [
    {
      "cell_type": "code",
      "execution_count": 2,
      "metadata": {
        "colab": {
          "base_uri": "https://localhost:8080/"
        },
        "id": "Wl17LG6Vti2V",
        "outputId": "3858006a-76e1-4983-de09-77c1fae0987e"
      },
      "outputs": [
        {
          "output_type": "stream",
          "name": "stdout",
          "text": [
            "['even']\n"
          ]
        },
        {
          "output_type": "stream",
          "name": "stderr",
          "text": [
            "/usr/local/lib/python3.11/dist-packages/sklearn/utils/validation.py:2739: UserWarning: X does not have valid feature names, but DecisionTreeClassifier was fitted with feature names\n",
            "  warnings.warn(\n"
          ]
        }
      ],
      "source": [
        "#importing libraries\n",
        "\n",
        "import pandas as pd\n",
        "from sklearn.tree import DecisionTreeClassifier\n",
        "\n",
        "#preparing data\n",
        "x=pd.DataFrame({'number':[1,2,3,4,5,6,7,8,9,10,11,12,13,14,15,16,17,18,19,20]})\n",
        "y=['odd','even','odd','even','odd','even','odd','even','odd','even','odd','even','odd','even','odd','even','odd','even','odd','even']\n",
        "\n",
        "#Creating model\n",
        "model=DecisionTreeClassifier()\n",
        "\n",
        "#Training model\n",
        "model.fit(x,y)\n",
        "\n",
        "#Making predictions\n",
        "print(model.predict([[21]]))"
      ]
    },
    {
      "cell_type": "code",
      "source": [
        "df=pd.read_csv('/content/temperature.csv')\n",
        "\n",
        "a=df[['temperature']]\n",
        "b=df['label']\n",
        "\n",
        "#Creating model\n",
        "model=DecisionTreeClassifier()\n",
        "\n",
        "#Training model\n",
        "model.fit(a,b)\n",
        "\n",
        "#Making predictions\n",
        "print(model.predict([[21]]))\n"
      ],
      "metadata": {
        "colab": {
          "base_uri": "https://localhost:8080/"
        },
        "id": "aiPVmX03itW8",
        "outputId": "0103821b-5acd-4722-a255-089b7c889998"
      },
      "execution_count": 6,
      "outputs": [
        {
          "output_type": "stream",
          "name": "stdout",
          "text": [
            "['cool']\n"
          ]
        },
        {
          "output_type": "stream",
          "name": "stderr",
          "text": [
            "/usr/local/lib/python3.11/dist-packages/sklearn/utils/validation.py:2739: UserWarning: X does not have valid feature names, but DecisionTreeClassifier was fitted with feature names\n",
            "  warnings.warn(\n"
          ]
        }
      ]
    },
    {
      "cell_type": "code",
      "source": [
        "df=pd.read_csv('/content/weight_labels.csv')\n",
        "\n",
        "m=df[['weight']]\n",
        "n=df['label']\n",
        "\n",
        "#Creating model\n",
        "model=DecisionTreeClassifier()\n",
        "\n",
        "#Training model\n",
        "model.fit(m,n)\n",
        "\n",
        "#Making predictions\n",
        "print(model.predict([[50]]))\n"
      ],
      "metadata": {
        "colab": {
          "base_uri": "https://localhost:8080/"
        },
        "id": "Xwm75QYFkC1f",
        "outputId": "5cc9c430-f280-492e-acc3-ee19b1be1a60"
      },
      "execution_count": 9,
      "outputs": [
        {
          "output_type": "stream",
          "name": "stdout",
          "text": [
            "['normal']\n"
          ]
        },
        {
          "output_type": "stream",
          "name": "stderr",
          "text": [
            "/usr/local/lib/python3.11/dist-packages/sklearn/utils/validation.py:2739: UserWarning: X does not have valid feature names, but DecisionTreeClassifier was fitted with feature names\n",
            "  warnings.warn(\n"
          ]
        }
      ]
    }
  ],
  "metadata": {
    "colab": {
      "provenance": []
    },
    "kernelspec": {
      "display_name": "Python 3",
      "name": "python3"
    },
    "language_info": {
      "name": "python"
    }
  },
  "nbformat": 4,
  "nbformat_minor": 0
}