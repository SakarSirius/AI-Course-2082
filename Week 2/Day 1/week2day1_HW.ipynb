{
  "nbformat": 4,
  "nbformat_minor": 0,
  "metadata": {
    "colab": {
      "provenance": []
    },
    "kernelspec": {
      "name": "python3",
      "display_name": "Python 3"
    },
    "language_info": {
      "name": "python"
    }
  },
  "cells": [
    {
      "cell_type": "markdown",
      "source": [
        "#Day1WEEk 2 Task as Homework"
      ],
      "metadata": {
        "id": "QADNgfs9imuR"
      }
    },
    {
      "cell_type": "code",
      "execution_count": 8,
      "metadata": {
        "colab": {
          "base_uri": "https://localhost:8080/"
        },
        "id": "xmkQ4LnCf2az",
        "outputId": "6ba98807-92e3-4492-e088-8ccbdff8c3da"
      },
      "outputs": [
        {
          "output_type": "stream",
          "name": "stdout",
          "text": [
            "250.0\n"
          ]
        }
      ],
      "source": [
        "\n",
        "#Task 1\n",
        "import pandas as pd\n",
        "data=pd.Series([100,200,300,400])\n",
        "mean=data.mean()\n",
        "print(mean)"
      ]
    },
    {
      "cell_type": "code",
      "source": [
        "#Task 2\n",
        "import pandas as pd\n",
        "data=pd.Series([1,3,5,7,9])\n",
        "median=data.median()\n",
        "print(median)"
      ],
      "metadata": {
        "colab": {
          "base_uri": "https://localhost:8080/"
        },
        "id": "rwznywCfir7N",
        "outputId": "8e7587f4-f9f5-4c3c-94dd-f173902db72a"
      },
      "execution_count": 9,
      "outputs": [
        {
          "output_type": "stream",
          "name": "stdout",
          "text": [
            "5.0\n"
          ]
        }
      ]
    },
    {
      "cell_type": "code",
      "source": [
        "#Task 3\n",
        "import pandas as pd\n",
        "data=pd.Series([4,6,4,8,6,4])\n",
        "mode=data.mode()[0]\n",
        "print(mode)"
      ],
      "metadata": {
        "colab": {
          "base_uri": "https://localhost:8080/"
        },
        "id": "Hm_eU7U-iyu6",
        "outputId": "623cb7fc-6306-45b6-ca92-42f6caec8298"
      },
      "execution_count": 16,
      "outputs": [
        {
          "output_type": "stream",
          "name": "stdout",
          "text": [
            "4\n"
          ]
        }
      ]
    },
    {
      "cell_type": "code",
      "source": [
        "#Task 4\n",
        "import pandas as pd\n",
        "data=pd.Series([50,75,100,125])\n",
        "range=data.max()-data.min()\n",
        "print(f\"The range is:{range}\")"
      ],
      "metadata": {
        "colab": {
          "base_uri": "https://localhost:8080/"
        },
        "id": "a2bj3uHdi7GU",
        "outputId": "6ee16ea7-12c2-4781-df68-5969cf2701b3"
      },
      "execution_count": 17,
      "outputs": [
        {
          "output_type": "stream",
          "name": "stdout",
          "text": [
            "The range is:75\n"
          ]
        }
      ]
    },
    {
      "cell_type": "code",
      "source": [
        "#Task 5\n",
        "import pandas as pd\n",
        "import matplotlib.pyplot as plt\n",
        "dataframe=pd.DataFrame({\n",
        "    \"Temperatures\":[22,25,20,28,30]\n",
        "})\n",
        "plt.boxplot(dataframe)\n",
        "plt.savefig(\"Temperature Plot.png\")\n",
        "plt.title(\"Temperature Plot\")\n",
        "plt.ylabel(\"Degrees Celsius\")\n",
        "plt.show()"
      ],
      "metadata": {
        "colab": {
          "base_uri": "https://localhost:8080/",
          "height": 452
        },
        "id": "sxgt07QzjGig",
        "outputId": "3dad5dd0-9073-449b-a10e-8fd4fd31ef5d"
      },
      "execution_count": 21,
      "outputs": [
        {
          "output_type": "display_data",
          "data": {
            "text/plain": [
              "<Figure size 640x480 with 1 Axes>"
            ],
            "image/png": "[encoded data removed]"
          },
          "metadata": {}
        }
      ]
    }
  ]
}