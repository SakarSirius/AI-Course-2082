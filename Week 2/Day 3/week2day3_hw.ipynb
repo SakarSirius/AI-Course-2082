{
  "nbformat": 4,
  "nbformat_minor": 0,
  "metadata": {
    "colab": {
      "provenance": []
    },
    "kernelspec": {
      "name": "python3",
      "display_name": "Python 3"
    },
    "language_info": {
      "name": "python"
    }
  },
  "cells": [
    {
      "cell_type": "markdown",
      "source": [
        "\n",
        "Task 1: Calculate the theoretical probability of drawing a red card from a\n",
        " standard deck of 52 cards (26 red cards). Print the result.\n"
      ],
      "metadata": {
        "id": "jShv-3CICmAI"
      }
    },
    {
      "cell_type": "code",
      "execution_count": 1,
      "metadata": {
        "colab": {
          "base_uri": "https://localhost:8080/"
        },
        "id": "T4bvihLNCBdR",
        "outputId": "c02273a1-38b1-4cc9-dd1d-63f1604f49d6"
      },
      "outputs": [
        {
          "output_type": "stream",
          "name": "stdout",
          "text": [
            "0.5\n"
          ]
        }
      ],
      "source": [
        "fav_outcome=26\n",
        "tot_outcome=52\n",
        "pr=fav_outcome/tot_outcome\n",
        "print(pr)"
      ]
    },
    {
      "cell_type": "code",
      "source": [
        "# Out of 100 days, it rained on 30 days.\n",
        "# On 25 of those rainy days, a person carried an umbrella.\n",
        "# What is the probability that they carried an umbrella given that it was raining?\n",
        "total_days=100\n",
        "rainy_days=30\n",
        "umbrella_day=25\n",
        "prob_umbrella_on_rainy=umbrella_day/rainy_days\n",
        "print(prob_umbrella_on_rainy)"
      ],
      "metadata": {
        "colab": {
          "base_uri": "https://localhost:8080/"
        },
        "id": "AVTyZCHmC1OZ",
        "outputId": "b84a64d4-2168-4712-d16e-6c8cfe1a49aa"
      },
      "execution_count": 2,
      "outputs": [
        {
          "output_type": "stream",
          "name": "stdout",
          "text": [
            "0.8333333333333334\n"
          ]
        }
      ]
    },
    {
      "cell_type": "code",
      "source": [
        "# out of 80 students, 50 studied for the exam\n",
        "#out of those 50, 45 passed.\n",
        "#What is the probability a student passed given that they studied.\n",
        "total_students=80\n",
        "studied_students=50\n",
        "passed_students=45\n",
        "prob_passed_studied=passed_students/studied_students\n",
        "print(prob_passed_studied)"
      ],
      "metadata": {
        "colab": {
          "base_uri": "https://localhost:8080/"
        },
        "id": "J0bPaDNIEVWO",
        "outputId": "49da41f1-a5b0-4227-de15-bc0b5c3f09f7"
      },
      "execution_count": 3,
      "outputs": [
        {
          "output_type": "stream",
          "name": "stdout",
          "text": [
            "0.9\n"
          ]
        }
      ]
    },
    {
      "cell_type": "code",
      "source": [
        "#Probability of drawing a heart or a club from 52 cards(mutually exclusive)\n",
        "total_cards=52\n",
        "hearts=13\n",
        "clubs=13\n",
        "prob_hearts=hearts/total_cards\n",
        "prob_clubs=clubs/total_cards\n",
        "prob_hearts_or_clubs=prob_hearts+prob_clubs\n",
        "print(\"The probability of getting a heart or a club is:\", prob_hearts_or_clubs)"
      ],
      "metadata": {
        "colab": {
          "base_uri": "https://localhost:8080/"
        },
        "id": "07jBe2vyEbgR",
        "outputId": "8c72dfb9-426f-4311-8964-9287713f1219"
      },
      "execution_count": 5,
      "outputs": [
        {
          "output_type": "stream",
          "name": "stdout",
          "text": [
            "The probability of getting a heart or a club is: 0.5\n"
          ]
        }
      ]
    },
    {
      "cell_type": "code",
      "source": [
        "# Task 5: Calculate the probability of rolling a 6 twice in a row with a six-sided\n",
        "# die. Print the result.\n",
        "prob_6=1/6\n",
        "prob_6_twice=prob_6*prob_6\n",
        "print(prob_6_twice)"
      ],
      "metadata": {
        "colab": {
          "base_uri": "https://localhost:8080/"
        },
        "id": "LucVVUXMEolG",
        "outputId": "f2d7714f-75f8-4dc7-b6cb-4c8a8320db79"
      },
      "execution_count": 6,
      "outputs": [
        {
          "output_type": "stream",
          "name": "stdout",
          "text": [
            "0.027777777777777776\n"
          ]
        }
      ]
    },
    {
      "cell_type": "code",
      "source": [
        "# Task 6: Calculate the probability of drawing two red cards without replacement from a deck (26 red cards, 52 total). Print the result.\n",
        "reds=26\n",
        "total=52\n",
        "prob_first_red=reds/total\n",
        "prob_second_red=(reds-1)/(total-1)\n",
        "prob_two_red=prob_first_red*prob_second_red\n",
        "print(prob_two_red)"
      ],
      "metadata": {
        "colab": {
          "base_uri": "https://localhost:8080/"
        },
        "id": "mGU4RKNdFglS",
        "outputId": "e52cb23b-b0fc-4c22-f9b4-ffcd31f16746"
      },
      "execution_count": 7,
      "outputs": [
        {
          "output_type": "stream",
          "name": "stdout",
          "text": [
            "0.24509803921568626\n"
          ]
        }
      ]
    }
  ]
}