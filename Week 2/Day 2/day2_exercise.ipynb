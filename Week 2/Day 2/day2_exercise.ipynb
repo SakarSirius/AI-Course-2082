{
  "nbformat": 4,
  "nbformat_minor": 0,
  "metadata": {
    "colab": {
      "provenance": []
    },
    "kernelspec": {
      "name": "python3",
      "display_name": "Python 3"
    },
    "language_info": {
      "name": "python"
    }
  },
  "cells": [
    {
      "cell_type": "markdown",
      "source": [
        "# Hands-On Practice: Linear Algebra for AI"
      ],
      "metadata": {
        "id": "dN1GaW1UqZ_k"
      }
    },
    {
      "cell_type": "markdown",
      "source": [
        "## Exercise 1: Working with Scalars and Vectors"
      ],
      "metadata": {
        "id": "UaZ3xInsqclU"
      }
    },
    {
      "cell_type": "code",
      "execution_count": null,
      "metadata": {
        "colab": {
          "base_uri": "https://localhost:8080/"
        },
        "id": "KQpg3faBqZHY",
        "outputId": "56734e96-f55d-455c-c255-3452a30da40e"
      },
      "outputs": [
        {
          "output_type": "stream",
          "name": "stdout",
          "text": [
            "9\n",
            "[1 2 3]\n",
            "[ 9 18 27]\n"
          ]
        }
      ],
      "source": [
        "import numpy as np\n",
        "\n",
        "#Creating a scaler\n",
        "scaler = 9\n",
        "print(scaler)\n",
        "\n",
        "#Creating a Vector\n",
        "vector = np.array([1,2,3])\n",
        "print(vector)\n",
        "\n",
        "#Scaling vector with a scaler aka. scaled vector\n",
        "scaled_vector = scaler * vector\n",
        "print(scaled_vector)\n",
        "# Task 1: Create a vector [4, 5, 6] and multiply it by a scalar of 3. Print the result."
      ]
    },
    {
      "cell_type": "markdown",
      "source": [
        "## VECTOR ADDITION AND SUBTRACTION"
      ],
      "metadata": {
        "id": "sKMldd7vArk2"
      }
    },
    {
      "cell_type": "code",
      "source": [
        "# Task 2: Create two vectors [10, 20] and [5, 15]. Compute and print their sum\n",
        "# and difference."
      ],
      "metadata": {
        "id": "TVv1ii9ZAnmf"
      },
      "execution_count": null,
      "outputs": []
    },
    {
      "cell_type": "markdown",
      "source": [
        "## MATRIX CREATION AND SIMPLE OPERATION"
      ],
      "metadata": {
        "id": "RBixBkDtA32Y"
      }
    },
    {
      "cell_type": "code",
      "source": [
        "matrix1 = np.array([[1,2],[4,5]])\n",
        "matrix2 = np.array([[3,6],[8,9]])\n",
        "\n",
        "print(matrix1)\n",
        "print(matrix2)\n",
        "\n",
        "## Task 3: Create two 2x2 matrices [[2, 3], [4, 5]] and [[1, 1], [2, 2]]. Compute and\n",
        "# print their sum."
      ],
      "metadata": {
        "colab": {
          "base_uri": "https://localhost:8080/"
        },
        "id": "wvYql8thA_zA",
        "outputId": "753a4d8b-0b7c-4fe6-d83e-9ccd1417327c"
      },
      "execution_count": null,
      "outputs": [
        {
          "output_type": "stream",
          "name": "stdout",
          "text": [
            "[[1 2]\n",
            " [4 5]]\n",
            "[[3 6]\n",
            " [8 9]]\n"
          ]
        }
      ]
    },
    {
      "cell_type": "markdown",
      "source": [
        "## MATRIX MULTIPLICATION"
      ],
      "metadata": {
        "id": "lqg88kB8Couo"
      }
    },
    {
      "cell_type": "code",
      "source": [
        "matrix1 = np.array([[2,4],[5,7]])\n",
        "matrix2 = np.array([[6,8],[9,11]])\n",
        "\n",
        "product = np.dot(matrix1,matrix2)\n",
        "print(product)\n",
        "\n",
        "# Task 4: Create two 2x2 matrices [[1, 0], [0, 1]] and [[2, 3], [4, 5]]. Compute and\n",
        "# print their product."
      ],
      "metadata": {
        "id": "gop7sD3cBmy2"
      },
      "execution_count": null,
      "outputs": []
    },
    {
      "cell_type": "code",
      "source": [
        "matrix1 = np.array([[1, 2], [3, 14]])\n",
        "matrix2 = np.array([[15, 6], [7, 8]])\n",
        "\n",
        "mat_mul_index1 = matrix1[0,0] * matrix2[0,0] + matrix1[0,1] * matrix2[1,0]\n",
        "mat_mul_index2 = matrix1[0,0] * matrix2[0,1] + matrix1[0,1] * matrix2[1,1]\n",
        "mat_mul_index3 = matrix1[1,0] * matrix2[0,0] + matrix1[1,1] * matrix2[1,0]\n",
        "mat_mul_index4 = matrix1[1,0] * matrix2[0,1] + matrix1[1,1] * matrix2[1,1]\n",
        "\n",
        "print(mat_mul_index1, mat_mul_index2, mat_mul_index3, mat_mul_index4)\n",
        "\n",
        "\n",
        "mat = np.dot(matrix1, matrix2)\n",
        "print(mat)\n",
        "\n",
        "\n",
        "\n",
        "# A more simplified approach!!!!!!!!!!!\n",
        "\n",
        "a, b = matrix1[0]\n",
        "c, d = matrix1[1]\n",
        "e, f = matrix2[0]\n",
        "g, h = matrix2[1]\n",
        "\n",
        "mat_mul_index1 = a * e + b * g\n",
        "mat_mul_index2 = a * f + b * h\n",
        "mat_mul_index3 = c * e + d * g\n",
        "mat_mul_index4 = c * f + d * h\n",
        "\n",
        "print(mat_mul_index1, mat_mul_index2)\n",
        "print(mat_mul_index3, mat_mul_index4)"
      ],
      "metadata": {
        "id": "BZM93IalOjmu"
      },
      "execution_count": null,
      "outputs": []
    },
    {
      "cell_type": "markdown",
      "source": [
        "## Exercise 5: Identity Matrix and Transpose"
      ],
      "metadata": {
        "id": "jXL36CcsJD9I"
      }
    },
    {
      "cell_type": "code",
      "source": [
        "identity = np.eye(2,dtype=int)\n",
        "print(identity)\n",
        "\n",
        "\n",
        "matrix1 = np.array([[2,4],[5,7]])\n",
        "print(matrix1.T)\n",
        "\n",
        "# Task 5: Create a 2x3 matrix [[10, 20, 30], [40, 50, 60]]. Compute and print its\n",
        "# transpose. Also, create and print a 2x2 identity matrix."
      ],
      "metadata": {
        "colab": {
          "base_uri": "https://localhost:8080/"
        },
        "id": "J9klDGTeJEXM",
        "outputId": "d74a3e5f-9007-424c-a48d-2d3491a74a91"
      },
      "execution_count": null,
      "outputs": [
        {
          "output_type": "stream",
          "name": "stdout",
          "text": [
            "[[1 0]\n",
            " [0 1]]\n",
            "[[2 5]\n",
            " [4 7]]\n"
          ]
        }
      ]
    },
    {
      "cell_type": "markdown",
      "source": [
        "## MATRIX INVERSE"
      ],
      "metadata": {
        "id": "Rt2ne8lgNNz6"
      }
    },
    {
      "cell_type": "code",
      "source": [
        "matrix1 = np.array([[2,4],[5,7]])\n",
        "inverse = np.linalg.inv(matrix1)\n",
        "\n",
        "identity = np.dot(matrix1,inverse)\n",
        "print(identity)"
      ],
      "metadata": {
        "colab": {
          "base_uri": "https://localhost:8080/"
        },
        "id": "XMne5gbzNGZN",
        "outputId": "98d38a6e-3a2b-4b11-ea9b-60d11f644b67"
      },
      "execution_count": null,
      "outputs": [
        {
          "output_type": "stream",
          "name": "stdout",
          "text": [
            "[[1.0000000e+00 0.0000000e+00]\n",
            " [4.4408921e-16 1.0000000e+00]]\n"
          ]
        }
      ]
    },
    {
      "cell_type": "code",
      "source": [],
      "metadata": {
        "id": "FVBxxnoXRrm1"
      },
      "execution_count": null,
      "outputs": []
    }
  ]
}