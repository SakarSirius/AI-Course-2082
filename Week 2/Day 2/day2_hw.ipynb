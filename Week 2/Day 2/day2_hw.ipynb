{
  "nbformat": 4,
  "nbformat_minor": 0,
  "metadata": {
    "colab": {
      "provenance": []
    },
    "kernelspec": {
      "name": "python3",
      "display_name": "Python 3"
    },
    "language_info": {
      "name": "python"
    }
  },
  "cells": [
    {
      "cell_type": "markdown",
      "source": [
        "#Day 2 Week 2 Tasks as Homework\n"
      ],
      "metadata": {
        "id": "2QS8ajrumYyU"
      }
    },
    {
      "cell_type": "code",
      "execution_count": 2,
      "metadata": {
        "colab": {
          "base_uri": "https://localhost:8080/"
        },
        "id": "CgpVocAQlrfn",
        "outputId": "1441cea5-da1f-4907-8062-6eee2f1d8f51"
      },
      "outputs": [
        {
          "output_type": "stream",
          "name": "stdout",
          "text": [
            "[[19 22]\n",
            " [43 50]]\n",
            "[[19 22]\n",
            " [43 50]]\n"
          ]
        }
      ],
      "source": [
        "#Task using manual multiplication method\n",
        "import numpy as np\n",
        "matA=np.array([[1,2],[3,4]])\n",
        "matB=np.array([[5,6],[7,8]])\n",
        "ind00=matA[0,0]*matB[0,0]+matA[0,1]*matB[1,0]\n",
        "ind01=matA[0,0]*matB[0,1]+matA[0,1]*matB[1,1]\n",
        "ind10=matA[1,0]*matB[0,0]+matA[1,1]*matB[1,0]\n",
        "ind11=matA[1,0]*matB[0,1]+matA[1,1]*matB[1,1]\n",
        "mat_mult=np.array([[ind00,ind01],[ind10,ind11]])\n",
        "print(mat_mult)\n",
        "actualmat=np.dot(matA,matB)\n",
        "print(actualmat)\n"
      ]
    },
    {
      "cell_type": "code",
      "source": [
        "#Task1\n",
        "vct=np.array([7,8,9])\n",
        "sc=2\n",
        "print(sc*vct)"
      ],
      "metadata": {
        "colab": {
          "base_uri": "https://localhost:8080/"
        },
        "id": "eVO1u2oEoyPJ",
        "outputId": "224d311c-fffc-46f4-c8b6-e41828abd8e7"
      },
      "execution_count": 3,
      "outputs": [
        {
          "output_type": "stream",
          "name": "stdout",
          "text": [
            "[14 16 18]\n"
          ]
        }
      ]
    },
    {
      "cell_type": "code",
      "source": [
        "#Task2\n",
        "vct1=np.array([3,4])\n",
        "vct2=np.array([1,2])\n",
        "sum1=vct1+vct2\n",
        "diff1=vct1-vct2\n",
        "print(sum1)\n",
        "print(diff1)"
      ],
      "metadata": {
        "colab": {
          "base_uri": "https://localhost:8080/"
        },
        "id": "_AWxUPaSo3uZ",
        "outputId": "c54d0483-a35c-4359-b7af-ee04a12af054"
      },
      "execution_count": 4,
      "outputs": [
        {
          "output_type": "stream",
          "name": "stdout",
          "text": [
            "[4 6]\n",
            "[2 2]\n"
          ]
        }
      ]
    },
    {
      "cell_type": "code",
      "source": [
        "#Task3\n",
        "mat1=np.array([[0,1],[2,3]])\n",
        "mat2=np.array([[4,5],[6,7]])\n",
        "sum2=mat1+mat2\n",
        "print(sum2)"
      ],
      "metadata": {
        "colab": {
          "base_uri": "https://localhost:8080/"
        },
        "id": "NnsTbmT6pILB",
        "outputId": "5a3e5852-01fe-4dbd-cebc-ff294f98cd79"
      },
      "execution_count": 5,
      "outputs": [
        {
          "output_type": "stream",
          "name": "stdout",
          "text": [
            "[[ 4  6]\n",
            " [ 8 10]]\n"
          ]
        }
      ]
    },
    {
      "cell_type": "code",
      "source": [
        "#Task4\n",
        "m1=np.array([[2,1],[0,3]])\n",
        "m2=np.array([[1,2],[3,4]])\n",
        "dot=np.dot(m1,m2)\n",
        "print(dot)"
      ],
      "metadata": {
        "colab": {
          "base_uri": "https://localhost:8080/"
        },
        "id": "GmYKjdlhpYjZ",
        "outputId": "5082765c-6fbf-4769-cdb6-3b5390b82e99"
      },
      "execution_count": 6,
      "outputs": [
        {
          "output_type": "stream",
          "name": "stdout",
          "text": [
            "[[ 5  8]\n",
            " [ 9 12]]\n"
          ]
        }
      ]
    },
    {
      "cell_type": "code",
      "source": [
        "# Task 5: Create a 2x3 matrix [[10, 20, 30], [40, 50, 60]]. Compute and print its\n",
        "# transpose. Also, create and print a 2x2 identity matrix.\n",
        "newmat=np.array([[5,10,15],[20,25,30]])\n",
        "transpose=newmat.T\n",
        "print(transpose)\n",
        "identity=np.identity(2,dtype=int)\n",
        "print(identity)"
      ],
      "metadata": {
        "colab": {
          "base_uri": "https://localhost:8080/"
        },
        "id": "V5N0WwCcpkkQ",
        "outputId": "eb63b992-1dbe-42e8-f789-f88db65257f5"
      },
      "execution_count": 7,
      "outputs": [
        {
          "output_type": "stream",
          "name": "stdout",
          "text": [
            "[[ 5 20]\n",
            " [10 25]\n",
            " [15 30]]\n",
            "[[1 0]\n",
            " [0 1]]\n"
          ]
        }
      ]
    }
  ]
}